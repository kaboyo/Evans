{
  "nbformat": 4,
  "nbformat_minor": 0,
  "metadata": {
    "colab": {
      "provenance": []
    },
    "kernelspec": {
      "name": "python3",
      "display_name": "Python 3"
    },
    "language_info": {
      "name": "python"
    }
  },
  "cells": [
    {
      "cell_type": "markdown",
      "source": [
        "# **Dependencies**\n",
        "\n"
      ],
      "metadata": {
        "id": "9jUxzN0FMQw7"
      }
    },
    {
      "cell_type": "code",
      "source": [
        "!pip install mygene\n",
        "!pip install gseapy\n",
        "!pip install networkx\n",
        "import pandas as pd\n",
        "import matplotlib.pyplot as plt\n",
        "from collections import defaultdict\n",
        "import mygene\n",
        "import gseapy as gp\n",
        "import numpy as np\n",
        "import seaborn as sns\n",
        "from scipy.stats import spearmanr\n",
        "from scipy.stats import ttest_ind\n",
        "from statsmodels.stats.multitest import multipletests\n",
        "from scipy.stats import mannwhitneyu\n",
        "from scipy.cluster.hierarchy import linkage, dendrogram\n",
        "from sklearn.preprocessing import StandardScaler\n",
        "from scipy.integrate import solve_ivp\n",
        "import os\n",
        "import subprocess\n",
        "import gzip\n",
        "import requests\n",
        "import networkx as nx\n",
        "from io import StringIO\n",
        "from sklearn.decomposition import PCA"
      ],
      "metadata": {
        "colab": {
          "base_uri": "https://localhost:8080/"
        },
        "collapsed": true,
        "id": "hafwXaItzyOH",
        "outputId": "ea647d4c-cac0-4cf3-8a58-7862ae5eb1ba"
      },
      "execution_count": 150,
      "outputs": [
        {
          "output_type": "stream",
          "name": "stdout",
          "text": [
            "Requirement already satisfied: mygene in /usr/local/lib/python3.11/dist-packages (3.2.2)\n",
            "Requirement already satisfied: biothings-client>=0.2.6 in /usr/local/lib/python3.11/dist-packages (from mygene) (0.4.1)\n",
            "Requirement already satisfied: httpx>=0.22.0 in /usr/local/lib/python3.11/dist-packages (from biothings-client>=0.2.6->mygene) (0.28.1)\n",
            "Requirement already satisfied: anyio in /usr/local/lib/python3.11/dist-packages (from httpx>=0.22.0->biothings-client>=0.2.6->mygene) (3.7.1)\n",
            "Requirement already satisfied: certifi in /usr/local/lib/python3.11/dist-packages (from httpx>=0.22.0->biothings-client>=0.2.6->mygene) (2025.1.31)\n",
            "Requirement already satisfied: httpcore==1.* in /usr/local/lib/python3.11/dist-packages (from httpx>=0.22.0->biothings-client>=0.2.6->mygene) (1.0.7)\n",
            "Requirement already satisfied: idna in /usr/local/lib/python3.11/dist-packages (from httpx>=0.22.0->biothings-client>=0.2.6->mygene) (3.10)\n",
            "Requirement already satisfied: h11<0.15,>=0.13 in /usr/local/lib/python3.11/dist-packages (from httpcore==1.*->httpx>=0.22.0->biothings-client>=0.2.6->mygene) (0.14.0)\n",
            "Requirement already satisfied: sniffio>=1.1 in /usr/local/lib/python3.11/dist-packages (from anyio->httpx>=0.22.0->biothings-client>=0.2.6->mygene) (1.3.1)\n",
            "Collecting gseapy\n",
            "  Downloading gseapy-1.1.5-cp311-cp311-manylinux_2_17_x86_64.manylinux2014_x86_64.whl.metadata (11 kB)\n",
            "Requirement already satisfied: numpy>=1.13.0 in /usr/local/lib/python3.11/dist-packages (from gseapy) (1.26.4)\n",
            "Requirement already satisfied: scipy in /usr/local/lib/python3.11/dist-packages (from gseapy) (1.13.1)\n",
            "Requirement already satisfied: pandas in /usr/local/lib/python3.11/dist-packages (from gseapy) (2.2.2)\n",
            "Requirement already satisfied: matplotlib>=2.2 in /usr/local/lib/python3.11/dist-packages (from gseapy) (3.10.0)\n",
            "Requirement already satisfied: requests in /usr/local/lib/python3.11/dist-packages (from gseapy) (2.32.3)\n",
            "Requirement already satisfied: contourpy>=1.0.1 in /usr/local/lib/python3.11/dist-packages (from matplotlib>=2.2->gseapy) (1.3.1)\n",
            "Requirement already satisfied: cycler>=0.10 in /usr/local/lib/python3.11/dist-packages (from matplotlib>=2.2->gseapy) (0.12.1)\n",
            "Requirement already satisfied: fonttools>=4.22.0 in /usr/local/lib/python3.11/dist-packages (from matplotlib>=2.2->gseapy) (4.56.0)\n",
            "Requirement already satisfied: kiwisolver>=1.3.1 in /usr/local/lib/python3.11/dist-packages (from matplotlib>=2.2->gseapy) (1.4.8)\n",
            "Requirement already satisfied: packaging>=20.0 in /usr/local/lib/python3.11/dist-packages (from matplotlib>=2.2->gseapy) (24.2)\n",
            "Requirement already satisfied: pillow>=8 in /usr/local/lib/python3.11/dist-packages (from matplotlib>=2.2->gseapy) (11.1.0)\n",
            "Requirement already satisfied: pyparsing>=2.3.1 in /usr/local/lib/python3.11/dist-packages (from matplotlib>=2.2->gseapy) (3.2.1)\n",
            "Requirement already satisfied: python-dateutil>=2.7 in /usr/local/lib/python3.11/dist-packages (from matplotlib>=2.2->gseapy) (2.8.2)\n",
            "Requirement already satisfied: pytz>=2020.1 in /usr/local/lib/python3.11/dist-packages (from pandas->gseapy) (2025.1)\n",
            "Requirement already satisfied: tzdata>=2022.7 in /usr/local/lib/python3.11/dist-packages (from pandas->gseapy) (2025.1)\n",
            "Requirement already satisfied: charset-normalizer<4,>=2 in /usr/local/lib/python3.11/dist-packages (from requests->gseapy) (3.4.1)\n",
            "Requirement already satisfied: idna<4,>=2.5 in /usr/local/lib/python3.11/dist-packages (from requests->gseapy) (3.10)\n",
            "Requirement already satisfied: urllib3<3,>=1.21.1 in /usr/local/lib/python3.11/dist-packages (from requests->gseapy) (2.3.0)\n",
            "Requirement already satisfied: certifi>=2017.4.17 in /usr/local/lib/python3.11/dist-packages (from requests->gseapy) (2025.1.31)\n",
            "Requirement already satisfied: six>=1.5 in /usr/local/lib/python3.11/dist-packages (from python-dateutil>=2.7->matplotlib>=2.2->gseapy) (1.17.0)\n",
            "Downloading gseapy-1.1.5-cp311-cp311-manylinux_2_17_x86_64.manylinux2014_x86_64.whl (549 kB)\n",
            "\u001b[2K   \u001b[90m━━━━━━━━━━━━━━━━━━━━━━━━━━━━━━━━━━━━━━━━\u001b[0m \u001b[32m549.2/549.2 kB\u001b[0m \u001b[31m15.0 MB/s\u001b[0m eta \u001b[36m0:00:00\u001b[0m\n",
            "\u001b[?25hInstalling collected packages: gseapy\n",
            "Successfully installed gseapy-1.1.5\n",
            "Requirement already satisfied: networkx in /usr/local/lib/python3.11/dist-packages (3.4.2)\n"
          ]
        }
      ]
    },
    {
      "cell_type": "markdown",
      "source": [
        "# **Load, Inspect, and Prepare Data**"
      ],
      "metadata": {
        "id": "fc1_EyuqzvY2"
      }
    },
    {
      "cell_type": "markdown",
      "source": [
        "### **Downloading Data**"
      ],
      "metadata": {
        "id": "MmaU5t4MvCl9"
      }
    },
    {
      "cell_type": "code",
      "execution_count": 163,
      "metadata": {
        "id": "s7cLVAX1KgWn"
      },
      "outputs": [],
      "source": [
        "def download_and_load_data(url, output_filename, sep=\"\\t\", column_filter=None):\n",
        "    # Download the file using wget\n",
        "    print(f\"Downloading {output_filename} from {url}...\")\n",
        "    subprocess.run([\"wget\", \"-O\", output_filename + \".gz\", url], check=True)\n",
        "\n",
        "    # Unzip file using gunzip\n",
        "    print(f\"Unzipping {output_filename}.gz...\")\n",
        "    with gzip.open(output_filename + \".gz\", \"rb\") as gz_file:\n",
        "        with open(output_filename, \"wb\") as out_file:\n",
        "            out_file.write(gz_file.read())\n",
        "\n",
        "    # Load the data into a Pandas dataframe\n",
        "    print(f\"Loading {output_filename} into a pandas DataFrame...\")\n",
        "    df = pd.read_csv(output_filename, sep=sep, index_col=0)\n",
        "\n",
        "    # Optionally,  filter columns based on keyword\n",
        "    if column_filter:\n",
        "        print(f\"Filtering columns with keyword '{column_filter}'...\")\n",
        "        filtered_columns = [col for col in df.columns if column_filter in col]\n",
        "        df = df[filtered_columns]\n",
        "\n",
        "    # Return pandas data frame\n",
        "    return df"
      ]
    },
    {
      "cell_type": "code",
      "source": [
        "# Example usage\n",
        "''' Uncomment for use\n",
        "count_matrix = download_and_load_data(url= \"Your URL Here\",\n",
        "                                   output_filename= \"Output filename here\",\n",
        "                                   column_filter= \"Optional column filter\")\n",
        "\n",
        "count_matrix.head()\n",
        "'''"
      ],
      "metadata": {
        "id": "cGdVv4MrIOPk"
      },
      "execution_count": null,
      "outputs": []
    },
    {
      "cell_type": "code",
      "source": [
        "# check for missing values\n",
        "print(count_matrix.isnull().sum())"
      ],
      "metadata": {
        "colab": {
          "base_uri": "https://localhost:8080/",
          "height": 34
        },
        "id": "oCLyTjWF2tqw",
        "outputId": "61297e9c-58b8-4eb6-97da-fa773355c494"
      },
      "execution_count": 164,
      "outputs": [
        {
          "output_type": "execute_result",
          "data": {
            "text/plain": [
              "'\\nprint(count_matrix.isnull().sum())\\n'"
            ],
            "application/vnd.google.colaboratory.intrinsic+json": {
              "type": "string"
            }
          },
          "metadata": {},
          "execution_count": 164
        }
      ]
    },
    {
      "cell_type": "markdown",
      "source": [
        "### **Converting Ensemble IDs to Gene Names**"
      ],
      "metadata": {
        "id": "zclpgjVVY2Ni"
      }
    },
    {
      "cell_type": "code",
      "source": [
        "def convert_ensembl_to_gene_symbols(count_matrix, species='human'):\n",
        "    try:\n",
        "        # Create a copy to avoid modifying the original\n",
        "        count_matrix = count_matrix.copy()\n",
        "\n",
        "        # Remove version numbers from Ensembl IDs\n",
        "        cleaned_index = count_matrix.index.str.split('.').str[0]\n",
        "        count_matrix.index = cleaned_index\n",
        "\n",
        "        # Initialize MyGeneInfo object and query gene symbols\n",
        "        mg = mygene.MyGeneInfo()\n",
        "        ensembl_ids = count_matrix.index.unique().tolist()\n",
        "\n",
        "        # Query gene information with error handling\n",
        "        gene_info = mg.querymany(ensembl_ids, scopes='ensembl.gene', fields='symbol', species=species, verbose=False)\n",
        "\n",
        "        # Convert to DataFrame and clean results\n",
        "        gene_df = pd.DataFrame(gene_info)\n",
        "        gene_df = gene_df.dropna(subset=['symbol'])\n",
        "        gene_df = gene_df.drop_duplicates(subset='query')\n",
        "\n",
        "        # Map gene symbols to count matrix\n",
        "        symbol_map = gene_df.set_index('query')['symbol']\n",
        "        count_matrix['Gene_Name'] = count_matrix.index.map(symbol_map)\n",
        "\n",
        "        # Reorganize columns with Gene_Name first\n",
        "        cols = ['Gene_Name'] + [col for col in count_matrix.columns if col != 'Gene_Name']\n",
        "        count_matrix = count_matrix[cols]\n",
        "\n",
        "        # Log conversion statistics\n",
        "        total_genes = len(ensembl_ids)\n",
        "        mapped_genes = len(gene_df)\n",
        "        print(f\"Successfully mapped {mapped_genes} out of {total_genes} genes ({mapped_genes/total_genes*100:.1f}%)\")\n",
        "\n",
        "        return count_matrix\n",
        "\n",
        "    except Exception as e:\n",
        "        raise Exception(f\"Error during gene ID conversion: {str(e)}\")"
      ],
      "metadata": {
        "id": "2od_eMFAME8_"
      },
      "execution_count": 165,
      "outputs": []
    },
    {
      "cell_type": "code",
      "source": [
        "# Example usage\n",
        "'''\n",
        "count_matrix_gene_names = convert_ensembl_to_gene_symbols(count_matrix, species='human')\n",
        "count_matrix_gene_names.head()\n",
        "'''"
      ],
      "metadata": {
        "id": "5V9hWcnOIhnt"
      },
      "execution_count": null,
      "outputs": []
    },
    {
      "cell_type": "markdown",
      "source": [
        "### **Exploratory Data Analysis**"
      ],
      "metadata": {
        "id": "wn0ZdiPVtsHj"
      }
    },
    {
      "cell_type": "code",
      "source": [
        "def visualize_rnaseq_qc(count_matrix, figure_size=(15, 12)):\n",
        "    # Drop the Gene Name column for counting\n",
        "    countlist_no_name = count_matrix.iloc[:, 1:]\n",
        "\n",
        "    # Calculate total counts and log transform\n",
        "    total_counts = countlist_no_name.sum(axis=0)\n",
        "    log_counts = countlist_no_name.apply(lambda x: np.log2(x + 1))\n",
        "\n",
        "    # Create main visualization figure\n",
        "    fig1, axes = plt.subplots(2, 2, figsize=figure_size)\n",
        "\n",
        "    # Panel 1: Total counts per sample\n",
        "    sns.barplot(x=countlist_no_name.columns, y=total_counts, color='skyblue', ax=axes[0,0])\n",
        "    axes[0,0].set_ylabel('Total Counts')\n",
        "    axes[0,0].set_title('Total Counts per Sample')\n",
        "    axes[0,0].tick_params(axis='x', rotation=85)\n",
        "\n",
        "    # Panel 2: Log transformed counts distribution\n",
        "    log_counts.boxplot(ax=axes[0,1])\n",
        "    axes[0,1].set_ylabel('Log2(Counts + 1)')\n",
        "    axes[0,1].set_title('Log Transformed Counts per Sample')\n",
        "    axes[0,1].tick_params(axis='x', rotation=85)\n",
        "\n",
        "    # Panel 3: Sample correlation heatmap\n",
        "    correlation_matrix = log_counts.corr()\n",
        "    sns.heatmap(correlation_matrix, annot=True, cmap='coolwarm', center=0.5, vmin=0, vmax=1, ax=axes[1,0])\n",
        "    axes[1,0].set_title('Sample Correlation Matrix')\n",
        "\n",
        "    # Panel 4: PCA plot\n",
        "    pca = PCA(n_components=2)\n",
        "    scaler = StandardScaler()\n",
        "    pca_result = pca.fit_transform(scaler.fit_transform(log_counts.T))\n",
        "    pca_df = pd.DataFrame(data=pca_result, columns=['PC1', 'PC2'], index=log_counts.columns)\n",
        "    sns.scatterplot(data=pca_df, x='PC1', y='PC2', s=100, ax=axes[1,1])\n",
        "    for idx, row in pca_df.iterrows():\n",
        "        axes[1,1].annotate(idx, (row['PC1'], row['PC2']))\n",
        "    axes[1,1].set_title(f'PCA Plot\\nPC1 ({pca.explained_variance_ratio_[0]:.1%}) vs PC2 ({pca.explained_variance_ratio_[1]:.1%})')\n",
        "    plt.tight_layout()\n",
        "\n",
        "    # Create dendrogram figure\n",
        "    fig2 = plt.figure(figsize=(8, 6))\n",
        "    h_clustering = linkage(log_counts.T, 'ward')\n",
        "    dendrogram(h_clustering, labels=countlist_no_name.columns)\n",
        "    plt.xticks(rotation=90)\n",
        "    plt.ylabel('Distance')\n",
        "    plt.title('Sample Clustering Dendrogram')\n",
        "\n",
        "    # Generate QC metrics\n",
        "    qc_stats = {\n",
        "        'total_reads': total_counts.sum(),\n",
        "        'mean_reads_per_sample': total_counts.mean(),\n",
        "        'cv_reads': total_counts.std() / total_counts.mean(),\n",
        "        'min_sample_correlation': correlation_matrix.min().min(),\n",
        "        'max_sample_correlation': correlation_matrix.max().min(),\n",
        "        'pc1_variance': pca.explained_variance_ratio_[0],\n",
        "        'pc2_variance': pca.explained_variance_ratio_[1]}\n",
        "    print(\"\\nRNA-seq Quality Control Metrics:\")\n",
        "    print(f\"Total sequencing depth: {qc_stats['total_reads']:,.0f}\")\n",
        "    print(f\"Mean reads per sample: {qc_stats['mean_reads_per_sample']:,.0f}\")\n",
        "    return fig1, fig2, qc_stats"
      ],
      "metadata": {
        "id": "ZHg9fdcYN6U5"
      },
      "execution_count": 166,
      "outputs": []
    },
    {
      "cell_type": "code",
      "source": [
        "# Example usage\n",
        "'''\n",
        "main_fig, dendrogram_fig, stats = visualize_rnaseq_qc(count_matrix=count_matrix_gene_names,figure_size=(15, 10))\n",
        "plt.show()\n",
        "'''"
      ],
      "metadata": {
        "id": "OUE0ykmgIldV"
      },
      "execution_count": null,
      "outputs": []
    },
    {
      "cell_type": "markdown",
      "source": [
        "# **Quality Control, Filtering, and Normalization**\n"
      ],
      "metadata": {
        "id": "V0uLDlEw8Pfe"
      }
    },
    {
      "cell_type": "code",
      "source": [
        "# plot the number of genes retained as a function of differnet CPM thresholds\n",
        "def plot_genes_retained_by_cpm(data, min_samples=2):\n",
        "    # convert raw counts to CPM to normalize the data\n",
        "    cpm = data.apply(lambda x: (x / x.sum()) * 1e6) #convert raw counts to CPM to normalize\n",
        "    # define a range of CPM thresholds to test, from 0 to 5 with increments of 0.1\n",
        "    thresholds = np.arange(0, 5, 0.1)\n",
        "    # initialize list to store the # of genes retained for ea/ threshold\n",
        "    genes_retained = []\n",
        "\n",
        "    # loop through ea/ threshold value to determine the # of genes retained\n",
        "    for min_cpm in thresholds:\n",
        "        # create mask where CPM > min_cpm in at least min_samples samples\n",
        "        mask = (cpm > min_cpm).sum(axis=1) >= min_samples\n",
        "        # count # of genes that meet the criteria and append to the list\n",
        "        genes_retained.append(mask.sum())\n",
        "\n",
        "    # plot # of genes retained as a function of CPM threshold\n",
        "    plt.figure(figsize=(10, 6))\n",
        "    plt.plot(thresholds, genes_retained, marker='o', color='green')\n",
        "    plt.axvline(x=1.0, color='red', linestyle='--', label='CPM = 1')\n",
        "    plt.xlabel('Threshold (CPM)')\n",
        "    plt.ylabel('Num Genes Retained')\n",
        "    plt.legend()\n",
        "    plt.show()"
      ],
      "metadata": {
        "id": "69iYcsex20a2"
      },
      "execution_count": 167,
      "outputs": []
    },
    {
      "cell_type": "code",
      "source": [
        "# Example useage\n",
        "'''\n",
        "# Drop the Gene Name column from count_matrix_gene_names for counting\n",
        "countlist_no_name = count_matrix_gene_names.iloc[:, 1:]\n",
        "\n",
        "# call plot_genes_retained_by_cpm function\n",
        "plot_genes_retained_by_cpm(countlist_no_name)\n",
        "'''"
      ],
      "metadata": {
        "id": "xlvO35K5Ipn5"
      },
      "execution_count": null,
      "outputs": []
    },
    {
      "cell_type": "code",
      "source": [
        "def filter_normalize(data, min_cpm=1.0, min_samples=2):\n",
        "    # Extract structural components\n",
        "    gene_names = data.iloc[:, 0]\n",
        "    raw_counts = data.iloc[:, 1:]\n",
        "\n",
        "    # Implement DESeq2-style filtering\n",
        "    lib_sizes = raw_counts.sum(axis=0)\n",
        "    cpm = raw_counts.div(lib_sizes, axis=1) * 1e6\n",
        "    mask = (cpm > min_cpm).sum(axis=1) >= min_samples\n",
        "\n",
        "    # Apply filtration criteria\n",
        "    filtered_counts = raw_counts[mask]\n",
        "    filtered_gene_names = gene_names[mask]\n",
        "\n",
        "    # Calculate geometric means with DESeq2-inspired approach\n",
        "    log_counts = np.log(filtered_counts.replace(0, np.nan))\n",
        "    geometric_means = np.exp(log_counts.mean(axis=1))\n",
        "\n",
        "    # Estimate size factors using DESeq2 methodology\n",
        "    size_factor_ratios = filtered_counts.div(geometric_means, axis=0)\n",
        "    size_factors = size_factor_ratios.median(axis=0)\n",
        "\n",
        "    # Apply normalization transformation\n",
        "    normalized_counts = filtered_counts.div(size_factors, axis=1)\n",
        "\n",
        "    # Reconstruct data architecture\n",
        "    normalized_data = pd.concat([filtered_gene_names, normalized_counts], axis=1)\n",
        "\n",
        "    # Generate diagnostic metrics\n",
        "    diagnostics = {'total_genes_initial': len(data),'genes_post_filtering': len(normalized_data),'size_factors': size_factors.to_dict(),'mean_size_factor': size_factors.mean(),'size_factor_variance': size_factors.var()}\n",
        "\n",
        "    return normalized_data, diagnostics\n"
      ],
      "metadata": {
        "id": "2FMRDeDQOSwr"
      },
      "execution_count": 168,
      "outputs": []
    },
    {
      "cell_type": "code",
      "source": [
        "# Example implementation with diagnostic output\n",
        "'''\n",
        "filtered_normalized_count_matrix, stats = filter_normalize(count_matrix_gene_names,  min_cpm=1.0, min_samples=2)\n",
        "print(stats)\n",
        "'''"
      ],
      "metadata": {
        "id": "hquAD52dIs0_"
      },
      "execution_count": null,
      "outputs": []
    },
    {
      "cell_type": "code",
      "source": [
        "# Plot the distribution of data after normalization\n",
        "fig, axes = plt.subplots(1, 2, figsize=(18, 6))\n",
        "\n",
        "# Total normalized counts per sample\n",
        "total_counts_normalized = filtered_normalized_count_matrix.iloc[:, 1:].sum(axis=0)  # Exclude gene_name column\n",
        "axes[0].bar(filtered_normalized_count_matrix.columns[1:], total_counts_normalized, color='lightcoral')\n",
        "axes[0].set_ylabel('Total Normalized Counts')\n",
        "axes[0].set_title('Total Counts per Sample (Normalized)')\n",
        "axes[0].tick_params(axis='x', rotation=85)\n",
        "\n",
        "# Log-transformed normalized counts per sample\n",
        "log_normalized_data = filtered_normalized_count_matrix.iloc[:, 1:].apply(lambda x: np.log2(x + 1), axis=0)  # Exclude gene_name column\n",
        "log_normalized_data.boxplot(ax=axes[1])\n",
        "axes[1].set_ylabel('Log2(Normalized Counts + 1)')\n",
        "axes[1].set_title('Log Transformed Counts per Sample (Normalized)')\n",
        "axes[1].tick_params(axis='x', rotation=85)\n",
        "\n",
        "plt.tight_layout()\n",
        "plt.show()"
      ],
      "metadata": {
        "colab": {
          "base_uri": "https://localhost:8080/",
          "height": 116
        },
        "id": "lvyw_fkF36V2",
        "outputId": "82c61907-5eb9-455e-932b-f4083cf7b277"
      },
      "execution_count": 169,
      "outputs": [
        {
          "output_type": "execute_result",
          "data": {
            "text/plain": [
              "\"\\n# Plot the distribution of data after normalization\\nfig, axes = plt.subplots(1, 2, figsize=(18, 6))\\n\\n# Total normalized counts per sample\\ntotal_counts_normalized = filtered_normalized_count_matrix.iloc[:, 1:].sum(axis=0)  # Exclude gene_name column\\naxes[0].bar(filtered_normalized_count_matrix.columns[1:], total_counts_normalized, color='lightcoral')\\naxes[0].set_ylabel('Total Normalized Counts')\\naxes[0].set_title('Total Counts per Sample (Normalized)')\\naxes[0].tick_params(axis='x', rotation=85)\\n\\n# Log-transformed normalized counts per sample\\nlog_normalized_data = filtered_normalized_count_matrix.iloc[:, 1:].apply(lambda x: np.log2(x + 1), axis=0)  # Exclude gene_name column\\nlog_normalized_data.boxplot(ax=axes[1])\\naxes[1].set_ylabel('Log2(Normalized Counts + 1)')\\naxes[1].set_title('Log Transformed Counts per Sample (Normalized)')\\naxes[1].tick_params(axis='x', rotation=85)\\n\\nplt.tight_layout()\\nplt.show()\\n\""
            ],
            "application/vnd.google.colaboratory.intrinsic+json": {
              "type": "string"
            }
          },
          "metadata": {},
          "execution_count": 169
        }
      ]
    },
    {
      "cell_type": "markdown",
      "source": [
        "## **Differential Expression Analysis**"
      ],
      "metadata": {
        "id": "QhLsxb7Z4rf-"
      }
    },
    {
      "cell_type": "code",
      "source": [
        "def analyze_differential_expression(expression_matrix, treatment_columns, control_columns,alpha=0.05, lfc_threshold=1.0):\n",
        "    # Input validation\n",
        "    if not all(col in expression_matrix.columns for col in treatment_columns + control_columns):\n",
        "        raise ValueError(\"Specified columns not found in expression matrix\")\n",
        "\n",
        "    # Initialize results collection\n",
        "    results = []\n",
        "\n",
        "    # Perform gene-wise differential expression analysis\n",
        "    for gene in expression_matrix.index:\n",
        "        try:\n",
        "            # Extract and validate group-wise expression values\n",
        "            treated = pd.to_numeric(expression_matrix.loc[gene, treatment_columns], errors='coerce')\n",
        "            control = pd.to_numeric(expression_matrix.loc[gene, control_columns], errors='coerce')\n",
        "\n",
        "            # Remove missing values\n",
        "            treated = treated.dropna()\n",
        "            control = control.dropna()\n",
        "\n",
        "            # Validate sufficient data points\n",
        "            if treated.empty or control.empty:\n",
        "                continue\n",
        "\n",
        "            # Calculate expression statistics\n",
        "            mean_control = np.mean(control)\n",
        "            mean_treated = np.mean(treated)\n",
        "\n",
        "            # Compute fold change with pseudo-count\n",
        "            log2fc = np.log2((mean_treated + 1) / (mean_control + 1))\n",
        "\n",
        "            # Perform Welch's t-test (equal_var=False)\n",
        "            t_stat, p_val = ttest_ind(treated, control, equal_var=False)\n",
        "\n",
        "            # Compile gene-wise results\n",
        "            results.append({\n",
        "                \"gene\": gene,\n",
        "                \"Gene_Name\": expression_matrix.loc[gene, \"Gene_Name\"] if \"Gene_Name\" in expression_matrix.columns else gene,\n",
        "                \"log2fc\": log2fc,\n",
        "                \"mean_treated\": mean_treated,\n",
        "                \"mean_control\": mean_control,\n",
        "                \"t_stat\": t_stat,\n",
        "                \"p_val\": p_val,\n",
        "                \"var_treated\": np.var(treated),\n",
        "                \"var_control\": np.var(control)})\n",
        "\n",
        "        except Exception as e:\n",
        "            print(f\"Warning: Error processing gene {gene}: {str(e)}\")\n",
        "            continue\n",
        "\n",
        "    # Convert to DataFrame and perform quality control\n",
        "    results_df = pd.DataFrame(results)\n",
        "    results_df['p_val'] = pd.to_numeric(results_df['p_val'], errors='coerce')\n",
        "    results_df = results_df.dropna(subset=['p_val'])\n",
        "\n",
        "    # Apply multiple testing correction\n",
        "    results_df['p_adj'] = multipletests(results_df['p_val'], method='fdr_bh')[1]\n",
        "\n",
        "    # Calculate absolute fold change\n",
        "    results_df['abs_log2fc'] = results_df['log2fc'].abs()\n",
        "\n",
        "    # Define significance criteria\n",
        "    results_df['significant'] = (results_df['p_adj'] < alpha) & \\\n",
        "                               (results_df['abs_log2fc'] > lfc_threshold)\n",
        "\n",
        "    # Generate summary statistics\n",
        "    summary_stats = {\n",
        "        'total_genes': len(results_df),\n",
        "        'significant_genes': results_df['significant'].sum(),\n",
        "        'up_regulated': sum((results_df['significant']) & (results_df['log2fc'] > 0)),\n",
        "        'down_regulated': sum((results_df['significant']) & (results_df['log2fc'] < 0)),\n",
        "        'mean_variance_ratio': np.mean(results_df['var_treated'] / results_df['var_control'])}\n",
        "\n",
        "    # Sort by statistical significance\n",
        "    results_df = results_df.sort_values('p_adj')\n",
        "\n",
        "    print(\"\\nDifferential Expression Analysis Summary:\")\n",
        "    print(f\"Total genes analyzed: {summary_stats['total_genes']}\")\n",
        "    print(f\"Significant genes: {summary_stats['significant_genes']}\")\n",
        "    print(f\"Up-regulated: {summary_stats['up_regulated']}\")\n",
        "    print(f\"Down-regulated: {summary_stats['down_regulated']}\")\n",
        "    print(f\"Mean variance ratio (treated/control): {summary_stats['mean_variance_ratio']:.2f}\")\n",
        "\n",
        "    return results_df, summary_stats"
      ],
      "metadata": {
        "id": "eDy-SmyrE2NF"
      },
      "execution_count": 170,
      "outputs": []
    },
    {
      "cell_type": "code",
      "source": [
        "# Example usage...\n",
        "'''\n",
        "treatment_samples = [...] # column identifiers for treatment condition samples\n",
        "control_samples = [...] # column identifiers for control condition samples\n",
        "\n",
        "welch_results, welch_stats = analyze_differential_expression(\n",
        "    expression_matrix=filtered_normalized_count_matrix,\n",
        "    treatment_columns=treatment_samples,\n",
        "    control_columns=control_samples,\n",
        "    alpha=0.05,  # default significance threshold\n",
        "    lfc_threshold=1.0)  # default log2 fold change threshold\n",
        "\n",
        "# Extract DEGs where 'significant' is True\n",
        "DEGs = welch_results[welch_results['significant'] == True]\n",
        "DEGs.head()\n",
        "'''"
      ],
      "metadata": {
        "id": "8RNXdz1wI0T8"
      },
      "execution_count": null,
      "outputs": []
    },
    {
      "cell_type": "code",
      "source": [
        "def visualize_differential_expression_matrix(results_df, filtered_degs, expression_matrix, treatment_columns, control_columns, p_adj_threshold=0.05, abs_log2fc_threshold=1.0, figure_size=(10, 8)):\n",
        "    fig, axes = plt.subplots(2, 2, figsize=figure_size)\n",
        "    scatter_params = {'alpha': 0.8,'edgecolor': None,'palette': 'viridis'}\n",
        "\n",
        "    # Panel 1: Global Expression Landscape (Volcano Plot)\n",
        "    sns.scatterplot(data=results_df, x='log2fc', y='p_adj', hue='log2fc',ax=axes[0,0], **scatter_params)\n",
        "    axes[0,0].axhline(y=p_adj_threshold, color='red', linestyle='--', linewidth=1)\n",
        "    axes[0,0].axvline(x=abs_log2fc_threshold, color='blue', linestyle='--', linewidth=1)\n",
        "    axes[0,0].axvline(x=-abs_log2fc_threshold, color='blue', linestyle='--', linewidth=1)\n",
        "    axes[0,0].set_xlabel('log2 Fold Change')\n",
        "    axes[0,0].set_ylabel('Adjusted P-value')\n",
        "    axes[0,0].set_title('Global Expression Landscape')\n",
        "\n",
        "    # Panel 2: Fold Change Distribution (All Genes)\n",
        "    sns.histplot(data=results_df, x='abs_log2fc',bins=50, kde=True,ax=axes[0,1])\n",
        "\n",
        "    # Add vertical line at fold change threshold\n",
        "    axes[0,1].axvline(x=abs_log2fc_threshold, color='red', linestyle='--', linewidth=1)\n",
        "\n",
        "    axes[0,1].set_title('Distribution of Absolute log2FC (All Genes)')\n",
        "    axes[0,1].set_xlabel('Absolute log2 Fold Change')\n",
        "    axes[0,1].set_ylabel('Gene Frequency')\n",
        "\n",
        "    # Panel 3: MA Plot\n",
        "    results_df['mean_expression'] = np.log2((results_df['mean_treated'] + results_df['mean_control'])/2 + 1)\n",
        "\n",
        "    sns.scatterplot(data=results_df, x='mean_expression', y='log2fc', hue='significant' if 'significant' in results_df.columns else None, ax=axes[1,0], **scatter_params)\n",
        "    axes[1,0].axhline(y=0, color='red', linestyle='--', linewidth=1)\n",
        "    axes[1,0].set_title('MA Plot (Mean vs Fold Change)')\n",
        "    axes[1,0].set_xlabel('Mean Expression (log2)')\n",
        "    axes[1,0].set_ylabel('log2 Fold Change')\n",
        "\n",
        "    # Panel 4: Distribution of Adjusted P-values\n",
        "    sns.histplot(data=results_df,x='p_adj',bins=50, kde=True, ax=axes[1,1])\n",
        "\n",
        "    # Add vertical line at significance threshold\n",
        "    axes[1,1].axvline(x=p_adj_threshold, color='red', linestyle='--', linewidth=1)\n",
        "    axes[1,1].set_title('Distribution of Adjusted P-values')\n",
        "    axes[1,1].set_xlabel('Adjusted P-value')\n",
        "    axes[1,1].set_ylabel('Gene Frequency')\n",
        "\n",
        "    plt.tight_layout()\n",
        "\n",
        "    # Generate comprehensive analytical metrics\n",
        "    summary_stats = {\n",
        "        'total_genes': len(results_df),\n",
        "        'significant_genes': len(filtered_degs),\n",
        "        'mean_fold_change_all': results_df['abs_log2fc'].mean(),\n",
        "        'median_fold_change_all': results_df['abs_log2fc'].median(),\n",
        "        'max_fold_change': results_df['abs_log2fc'].max(),\n",
        "        'mean_fold_change_sig': filtered_degs['abs_log2fc'].mean(),\n",
        "        'median_padj': results_df['p_adj'].median(),\n",
        "        'genes_below_alpha': sum(results_df['p_adj'] < p_adj_threshold)}\n",
        "\n",
        "    print(\"\\nComprehensive Expression Analysis Metrics:\")\n",
        "    print(f\"Total genes analyzed: {summary_stats['total_genes']}\")\n",
        "    print(f\"Significant DEGs identified: {summary_stats['significant_genes']}\")\n",
        "    print(f\"Mean absolute log2FC (all genes): {summary_stats['mean_fold_change_all']:.2f}\")\n",
        "    print(f\"Mean absolute log2FC (significant): {summary_stats['mean_fold_change_sig']:.2f}\")\n",
        "    print(f\"Median adjusted p-value: {summary_stats['median_padj']:.3f}\")\n",
        "    print(f\"Genes below significance threshold: {summary_stats['genes_below_alpha']}\")\n",
        "    return fig, summary_stats"
      ],
      "metadata": {
        "id": "UmlicsPIG_Ik"
      },
      "execution_count": 171,
      "outputs": []
    },
    {
      "cell_type": "code",
      "source": [
        "# example usage\n",
        "'''\n",
        "fig, stats = visualize_differential_expression_matrix(\n",
        "    results_df=welch_results,          # Complete results from differential expression analysis\n",
        "    filtered_degs=DEGs,    # Subset of significant DEGs\n",
        "    expression_matrix=filtered_normalized_count_matrix,\n",
        "    treatment_columns=treatment_samples,\n",
        "    control_columns=control_samples)\n",
        "\n",
        "# Display the plot\n",
        "plt.show()\n",
        "'''"
      ],
      "metadata": {
        "id": "ZceyYTuJI7Yf"
      },
      "execution_count": null,
      "outputs": []
    }
  ]
}