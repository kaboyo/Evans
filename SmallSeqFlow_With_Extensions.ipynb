{
  "nbformat": 4,
  "nbformat_minor": 0,
  "metadata": {
    "colab": {
      "provenance": []
    },
    "kernelspec": {
      "name": "python3",
      "display_name": "Python 3"
    },
    "language_info": {
      "name": "python"
    }
  },
  "cells": [
    {
      "cell_type": "markdown",
      "source": [
        "# **Dependencies**\n",
        "\n"
      ],
      "metadata": {
        "id": "9jUxzN0FMQw7"
      }
    },
    {
      "cell_type": "code",
      "source": [
        "!pip install mygene\n",
        "!pip install gseapy\n",
        "!pip install networkx\n",
        "import pandas as pd\n",
        "import matplotlib.pyplot as plt\n",
        "from collections import defaultdict\n",
        "import mygene\n",
        "import gseapy as gp\n",
        "import numpy as np\n",
        "import seaborn as sns\n",
        "from scipy.stats import spearmanr\n",
        "from scipy.stats import ttest_ind\n",
        "from statsmodels.stats.multitest import multipletests\n",
        "from scipy.stats import mannwhitneyu\n",
        "from scipy.cluster.hierarchy import linkage, dendrogram\n",
        "from sklearn.preprocessing import StandardScaler\n",
        "from scipy.integrate import solve_ivp\n",
        "import os\n",
        "import subprocess\n",
        "import gzip\n",
        "import requests\n",
        "import networkx as nx\n",
        "from io import StringIO\n",
        "from sklearn.decomposition import PCA"
      ],
      "metadata": {
        "colab": {
          "base_uri": "https://localhost:8080/"
        },
        "collapsed": true,
        "id": "hafwXaItzyOH",
        "outputId": "785b167f-3d4e-4e5c-d7fd-5d6b99b69596"
      },
      "execution_count": null,
      "outputs": [
        {
          "output_type": "stream",
          "name": "stdout",
          "text": [
            "Collecting mygene\n",
            "  Downloading mygene-3.2.2-py2.py3-none-any.whl.metadata (10 kB)\n",
            "Collecting biothings-client>=0.2.6 (from mygene)\n",
            "  Downloading biothings_client-0.4.1-py3-none-any.whl.metadata (10 kB)\n",
            "Requirement already satisfied: httpx>=0.22.0 in /usr/local/lib/python3.11/dist-packages (from biothings-client>=0.2.6->mygene) (0.28.1)\n",
            "Requirement already satisfied: anyio in /usr/local/lib/python3.11/dist-packages (from httpx>=0.22.0->biothings-client>=0.2.6->mygene) (3.7.1)\n",
            "Requirement already satisfied: certifi in /usr/local/lib/python3.11/dist-packages (from httpx>=0.22.0->biothings-client>=0.2.6->mygene) (2025.1.31)\n",
            "Requirement already satisfied: httpcore==1.* in /usr/local/lib/python3.11/dist-packages (from httpx>=0.22.0->biothings-client>=0.2.6->mygene) (1.0.7)\n",
            "Requirement already satisfied: idna in /usr/local/lib/python3.11/dist-packages (from httpx>=0.22.0->biothings-client>=0.2.6->mygene) (3.10)\n",
            "Requirement already satisfied: h11<0.15,>=0.13 in /usr/local/lib/python3.11/dist-packages (from httpcore==1.*->httpx>=0.22.0->biothings-client>=0.2.6->mygene) (0.14.0)\n",
            "Requirement already satisfied: sniffio>=1.1 in /usr/local/lib/python3.11/dist-packages (from anyio->httpx>=0.22.0->biothings-client>=0.2.6->mygene) (1.3.1)\n",
            "Downloading mygene-3.2.2-py2.py3-none-any.whl (5.4 kB)\n",
            "Downloading biothings_client-0.4.1-py3-none-any.whl (46 kB)\n",
            "\u001b[2K   \u001b[90m━━━━━━━━━━━━━━━━━━━━━━━━━━━━━━━━━━━━━━━━\u001b[0m \u001b[32m46.7/46.7 kB\u001b[0m \u001b[31m1.8 MB/s\u001b[0m eta \u001b[36m0:00:00\u001b[0m\n",
            "\u001b[?25hInstalling collected packages: biothings-client, mygene\n",
            "Successfully installed biothings-client-0.4.1 mygene-3.2.2\n",
            "Collecting gseapy\n",
            "  Downloading gseapy-1.1.5-cp311-cp311-manylinux_2_17_x86_64.manylinux2014_x86_64.whl.metadata (11 kB)\n",
            "Requirement already satisfied: numpy>=1.13.0 in /usr/local/lib/python3.11/dist-packages (from gseapy) (1.26.4)\n",
            "Requirement already satisfied: scipy in /usr/local/lib/python3.11/dist-packages (from gseapy) (1.13.1)\n",
            "Requirement already satisfied: pandas in /usr/local/lib/python3.11/dist-packages (from gseapy) (2.2.2)\n",
            "Requirement already satisfied: matplotlib>=2.2 in /usr/local/lib/python3.11/dist-packages (from gseapy) (3.10.0)\n",
            "Requirement already satisfied: requests in /usr/local/lib/python3.11/dist-packages (from gseapy) (2.32.3)\n",
            "Requirement already satisfied: contourpy>=1.0.1 in /usr/local/lib/python3.11/dist-packages (from matplotlib>=2.2->gseapy) (1.3.1)\n",
            "Requirement already satisfied: cycler>=0.10 in /usr/local/lib/python3.11/dist-packages (from matplotlib>=2.2->gseapy) (0.12.1)\n",
            "Requirement already satisfied: fonttools>=4.22.0 in /usr/local/lib/python3.11/dist-packages (from matplotlib>=2.2->gseapy) (4.56.0)\n",
            "Requirement already satisfied: kiwisolver>=1.3.1 in /usr/local/lib/python3.11/dist-packages (from matplotlib>=2.2->gseapy) (1.4.8)\n",
            "Requirement already satisfied: packaging>=20.0 in /usr/local/lib/python3.11/dist-packages (from matplotlib>=2.2->gseapy) (24.2)\n",
            "Requirement already satisfied: pillow>=8 in /usr/local/lib/python3.11/dist-packages (from matplotlib>=2.2->gseapy) (11.1.0)\n",
            "Requirement already satisfied: pyparsing>=2.3.1 in /usr/local/lib/python3.11/dist-packages (from matplotlib>=2.2->gseapy) (3.2.1)\n",
            "Requirement already satisfied: python-dateutil>=2.7 in /usr/local/lib/python3.11/dist-packages (from matplotlib>=2.2->gseapy) (2.8.2)\n",
            "Requirement already satisfied: pytz>=2020.1 in /usr/local/lib/python3.11/dist-packages (from pandas->gseapy) (2025.1)\n",
            "Requirement already satisfied: tzdata>=2022.7 in /usr/local/lib/python3.11/dist-packages (from pandas->gseapy) (2025.1)\n",
            "Requirement already satisfied: charset-normalizer<4,>=2 in /usr/local/lib/python3.11/dist-packages (from requests->gseapy) (3.4.1)\n",
            "Requirement already satisfied: idna<4,>=2.5 in /usr/local/lib/python3.11/dist-packages (from requests->gseapy) (3.10)\n",
            "Requirement already satisfied: urllib3<3,>=1.21.1 in /usr/local/lib/python3.11/dist-packages (from requests->gseapy) (2.3.0)\n",
            "Requirement already satisfied: certifi>=2017.4.17 in /usr/local/lib/python3.11/dist-packages (from requests->gseapy) (2025.1.31)\n",
            "Requirement already satisfied: six>=1.5 in /usr/local/lib/python3.11/dist-packages (from python-dateutil>=2.7->matplotlib>=2.2->gseapy) (1.17.0)\n",
            "Downloading gseapy-1.1.5-cp311-cp311-manylinux_2_17_x86_64.manylinux2014_x86_64.whl (549 kB)\n",
            "\u001b[2K   \u001b[90m━━━━━━━━━━━━━━━━━━━━━━━━━━━━━━━━━━━━━━━━\u001b[0m \u001b[32m549.2/549.2 kB\u001b[0m \u001b[31m6.8 MB/s\u001b[0m eta \u001b[36m0:00:00\u001b[0m\n",
            "\u001b[?25hInstalling collected packages: gseapy\n",
            "Successfully installed gseapy-1.1.5\n",
            "Requirement already satisfied: networkx in /usr/local/lib/python3.11/dist-packages (3.4.2)\n"
          ]
        }
      ]
    },
    {
      "cell_type": "markdown",
      "source": [
        "# **Load, Inspect, and Prepare Data**"
      ],
      "metadata": {
        "id": "fc1_EyuqzvY2"
      }
    },
    {
      "cell_type": "markdown",
      "source": [
        "### **Downloading Data**"
      ],
      "metadata": {
        "id": "MmaU5t4MvCl9"
      }
    },
    {
      "cell_type": "code",
      "execution_count": null,
      "metadata": {
        "id": "s7cLVAX1KgWn"
      },
      "outputs": [],
      "source": [
        "def download_and_load_data(url, output_filename, sep=\"\\t\", column_filter=None):\n",
        "    # Download the file using wget\n",
        "    print(f\"Downloading {output_filename} from {url}...\")\n",
        "    subprocess.run([\"wget\", \"-O\", output_filename + \".gz\", url], check=True)\n",
        "\n",
        "    # Unzip file using gunzip\n",
        "    print(f\"Unzipping {output_filename}.gz...\")\n",
        "    with gzip.open(output_filename + \".gz\", \"rb\") as gz_file:\n",
        "        with open(output_filename, \"wb\") as out_file:\n",
        "            out_file.write(gz_file.read())\n",
        "\n",
        "    # Load the data into a Pandas dataframe\n",
        "    print(f\"Loading {output_filename} into a pandas DataFrame...\")\n",
        "    df = pd.read_csv(output_filename, sep=sep, index_col=0)\n",
        "\n",
        "    # Optionally,  filter columns based on keyword\n",
        "    if column_filter:\n",
        "        print(f\"Filtering columns with keyword '{column_filter}'...\")\n",
        "        filtered_columns = [col for col in df.columns if column_filter in col]\n",
        "        df = df[filtered_columns]\n",
        "\n",
        "    # Return pandas data frame\n",
        "    return df"
      ]
    },
    {
      "cell_type": "code",
      "source": [
        "# Example usage\n",
        "''' Uncomment for use\n",
        "count_matrix = download_and_load_data(url= \"Your URL Here\",\n",
        "                                   output_filename= \"Output filename here\",\n",
        "                                   column_filter= \"Optional column filter\")\n",
        "\n",
        "count_matrix.head()\n",
        "'''"
      ],
      "metadata": {
        "id": "cGdVv4MrIOPk",
        "colab": {
          "base_uri": "https://localhost:8080/",
          "height": 357
        },
        "collapsed": true,
        "outputId": "d0ea3092-6eaa-42e5-ff52-fe343c4ce23e"
      },
      "execution_count": null,
      "outputs": [
        {
          "output_type": "stream",
          "name": "stdout",
          "text": [
            "Downloading Output filename here from Your URL Here...\n"
          ]
        },
        {
          "output_type": "error",
          "ename": "CalledProcessError",
          "evalue": "Command '['wget', '-O', 'Output filename here.gz', 'Your URL Here']' returned non-zero exit status 4.",
          "traceback": [
            "\u001b[0;31m---------------------------------------------------------------------------\u001b[0m",
            "\u001b[0;31mCalledProcessError\u001b[0m                        Traceback (most recent call last)",
            "\u001b[0;32m<ipython-input-3-735593e72e78>\u001b[0m in \u001b[0;36m<cell line: 0>\u001b[0;34m()\u001b[0m\n\u001b[1;32m      1\u001b[0m \u001b[0;31m# Example usage\u001b[0m\u001b[0;34m\u001b[0m\u001b[0;34m\u001b[0m\u001b[0m\n\u001b[0;32m----> 2\u001b[0;31m count_matrix = download_and_load_data(url= \"Your URL Here\",\n\u001b[0m\u001b[1;32m      3\u001b[0m                                    \u001b[0moutput_filename\u001b[0m\u001b[0;34m=\u001b[0m \u001b[0;34m\"Output filename here\"\u001b[0m\u001b[0;34m,\u001b[0m\u001b[0;34m\u001b[0m\u001b[0;34m\u001b[0m\u001b[0m\n\u001b[1;32m      4\u001b[0m                                    column_filter= \"Optional column filter\")\n\u001b[1;32m      5\u001b[0m \u001b[0;34m\u001b[0m\u001b[0m\n",
            "\u001b[0;32m<ipython-input-2-4e18c32b477b>\u001b[0m in \u001b[0;36mdownload_and_load_data\u001b[0;34m(url, output_filename, sep, column_filter)\u001b[0m\n\u001b[1;32m      2\u001b[0m     \u001b[0;31m# Download the file using wget\u001b[0m\u001b[0;34m\u001b[0m\u001b[0;34m\u001b[0m\u001b[0m\n\u001b[1;32m      3\u001b[0m     \u001b[0mprint\u001b[0m\u001b[0;34m(\u001b[0m\u001b[0;34mf\"Downloading {output_filename} from {url}...\"\u001b[0m\u001b[0;34m)\u001b[0m\u001b[0;34m\u001b[0m\u001b[0;34m\u001b[0m\u001b[0m\n\u001b[0;32m----> 4\u001b[0;31m     \u001b[0msubprocess\u001b[0m\u001b[0;34m.\u001b[0m\u001b[0mrun\u001b[0m\u001b[0;34m(\u001b[0m\u001b[0;34m[\u001b[0m\u001b[0;34m\"wget\"\u001b[0m\u001b[0;34m,\u001b[0m \u001b[0;34m\"-O\"\u001b[0m\u001b[0;34m,\u001b[0m \u001b[0moutput_filename\u001b[0m \u001b[0;34m+\u001b[0m \u001b[0;34m\".gz\"\u001b[0m\u001b[0;34m,\u001b[0m \u001b[0murl\u001b[0m\u001b[0;34m]\u001b[0m\u001b[0;34m,\u001b[0m \u001b[0mcheck\u001b[0m\u001b[0;34m=\u001b[0m\u001b[0;32mTrue\u001b[0m\u001b[0;34m)\u001b[0m\u001b[0;34m\u001b[0m\u001b[0;34m\u001b[0m\u001b[0m\n\u001b[0m\u001b[1;32m      5\u001b[0m \u001b[0;34m\u001b[0m\u001b[0m\n\u001b[1;32m      6\u001b[0m     \u001b[0;31m# Unzip file using gunzip\u001b[0m\u001b[0;34m\u001b[0m\u001b[0;34m\u001b[0m\u001b[0m\n",
            "\u001b[0;32m/usr/lib/python3.11/subprocess.py\u001b[0m in \u001b[0;36mrun\u001b[0;34m(input, capture_output, timeout, check, *popenargs, **kwargs)\u001b[0m\n\u001b[1;32m    569\u001b[0m         \u001b[0mretcode\u001b[0m \u001b[0;34m=\u001b[0m \u001b[0mprocess\u001b[0m\u001b[0;34m.\u001b[0m\u001b[0mpoll\u001b[0m\u001b[0;34m(\u001b[0m\u001b[0;34m)\u001b[0m\u001b[0;34m\u001b[0m\u001b[0;34m\u001b[0m\u001b[0m\n\u001b[1;32m    570\u001b[0m         \u001b[0;32mif\u001b[0m \u001b[0mcheck\u001b[0m \u001b[0;32mand\u001b[0m \u001b[0mretcode\u001b[0m\u001b[0;34m:\u001b[0m\u001b[0;34m\u001b[0m\u001b[0;34m\u001b[0m\u001b[0m\n\u001b[0;32m--> 571\u001b[0;31m             raise CalledProcessError(retcode, process.args,\n\u001b[0m\u001b[1;32m    572\u001b[0m                                      output=stdout, stderr=stderr)\n\u001b[1;32m    573\u001b[0m     \u001b[0;32mreturn\u001b[0m \u001b[0mCompletedProcess\u001b[0m\u001b[0;34m(\u001b[0m\u001b[0mprocess\u001b[0m\u001b[0;34m.\u001b[0m\u001b[0margs\u001b[0m\u001b[0;34m,\u001b[0m \u001b[0mretcode\u001b[0m\u001b[0;34m,\u001b[0m \u001b[0mstdout\u001b[0m\u001b[0;34m,\u001b[0m \u001b[0mstderr\u001b[0m\u001b[0;34m)\u001b[0m\u001b[0;34m\u001b[0m\u001b[0;34m\u001b[0m\u001b[0m\n",
            "\u001b[0;31mCalledProcessError\u001b[0m: Command '['wget', '-O', 'Output filename here.gz', 'Your URL Here']' returned non-zero exit status 4."
          ]
        }
      ]
    },
    {
      "cell_type": "code",
      "source": [
        "# check for missing values\n",
        "print(count_matrix.isnull().sum())"
      ],
      "metadata": {
        "colab": {
          "base_uri": "https://localhost:8080/",
          "height": 34
        },
        "id": "oCLyTjWF2tqw",
        "outputId": "61297e9c-58b8-4eb6-97da-fa773355c494"
      },
      "execution_count": null,
      "outputs": [
        {
          "output_type": "execute_result",
          "data": {
            "text/plain": [
              "'\\nprint(count_matrix.isnull().sum())\\n'"
            ],
            "application/vnd.google.colaboratory.intrinsic+json": {
              "type": "string"
            }
          },
          "metadata": {},
          "execution_count": 164
        }
      ]
    },
    {
      "cell_type": "markdown",
      "source": [
        "### **Converting Ensemble IDs to Gene Names**"
      ],
      "metadata": {
        "id": "zclpgjVVY2Ni"
      }
    },
    {
      "cell_type": "code",
      "source": [
        "def convert_ensembl_to_gene_symbols(count_matrix, species='human'):\n",
        "    try:\n",
        "        # Create a copy to avoid modifying the original\n",
        "        count_matrix = count_matrix.copy()\n",
        "\n",
        "        # Remove version numbers from Ensembl IDs\n",
        "        cleaned_index = count_matrix.index.str.split('.').str[0]\n",
        "        count_matrix.index = cleaned_index\n",
        "\n",
        "        # Initialize MyGeneInfo object and query gene symbols\n",
        "        mg = mygene.MyGeneInfo()\n",
        "        ensembl_ids = count_matrix.index.unique().tolist()\n",
        "\n",
        "        # Query gene information with error handling\n",
        "        gene_info = mg.querymany(ensembl_ids, scopes='ensembl.gene', fields='symbol', species=species, verbose=False)\n",
        "\n",
        "        # Convert to DataFrame and clean results\n",
        "        gene_df = pd.DataFrame(gene_info)\n",
        "        gene_df = gene_df.dropna(subset=['symbol'])\n",
        "        gene_df = gene_df.drop_duplicates(subset='query')\n",
        "\n",
        "        # Map gene symbols to count matrix\n",
        "        symbol_map = gene_df.set_index('query')['symbol']\n",
        "        count_matrix['Gene_Name'] = count_matrix.index.map(symbol_map)\n",
        "\n",
        "        # Reorganize columns with Gene_Name first\n",
        "        cols = ['Gene_Name'] + [col for col in count_matrix.columns if col != 'Gene_Name']\n",
        "        count_matrix = count_matrix[cols]\n",
        "\n",
        "        # Log conversion statistics\n",
        "        total_genes = len(ensembl_ids)\n",
        "        mapped_genes = len(gene_df)\n",
        "        print(f\"Successfully mapped {mapped_genes} out of {total_genes} genes ({mapped_genes/total_genes*100:.1f}%)\")\n",
        "\n",
        "        return count_matrix\n",
        "\n",
        "    except Exception as e:\n",
        "        raise Exception(f\"Error during gene ID conversion: {str(e)}\")"
      ],
      "metadata": {
        "id": "2od_eMFAME8_"
      },
      "execution_count": null,
      "outputs": []
    },
    {
      "cell_type": "code",
      "source": [
        "# Example usage\n",
        "\n",
        "count_matrix_gene_names = convert_ensembl_to_gene_symbols(count_matrix, species='human')\n",
        "count_matrix_gene_names.head()\n"
      ],
      "metadata": {
        "id": "5V9hWcnOIhnt",
        "colab": {
          "base_uri": "https://localhost:8080/",
          "height": 267
        },
        "collapsed": true,
        "outputId": "7cb9bc89-f0bb-4dc5-a75b-65f7d242490c"
      },
      "execution_count": null,
      "outputs": [
        {
          "output_type": "stream",
          "name": "stderr",
          "text": [
            "WARNING:biothings.client:Input sequence provided is already in string format. No operation performed\n",
            "WARNING:biothings.client:Input sequence provided is already in string format. No operation performed\n"
          ]
        },
        {
          "output_type": "stream",
          "name": "stdout",
          "text": [
            "Successfully mapped 19879 out of 23044 genes (86.3%)\n"
          ]
        },
        {
          "output_type": "execute_result",
          "data": {
            "text/plain": [
              "                Gene_Name  JJ_AMIL_141050_INTER-Str_counts  \\\n",
              "ENSG00000000419      DPM1                          1520.00   \n",
              "ENSG00000000457     SCYL3                           675.00   \n",
              "ENSG00000000460     FIRRM                          1110.00   \n",
              "ENSG00000000938       FGR                             3.96   \n",
              "ENSG00000000971       CFH                          3000.00   \n",
              "\n",
              "                 JJ_AMIL_141056_INTER-Str_counts  \\\n",
              "ENSG00000000419                          2420.00   \n",
              "ENSG00000000457                           765.00   \n",
              "ENSG00000000460                          1060.00   \n",
              "ENSG00000000938                             2.41   \n",
              "ENSG00000000971                          2570.00   \n",
              "\n",
              "                 JJ_AMIL_141062_INTER-Str_counts  \\\n",
              "ENSG00000000419                          2820.00   \n",
              "ENSG00000000457                           772.00   \n",
              "ENSG00000000460                           855.00   \n",
              "ENSG00000000938                             3.68   \n",
              "ENSG00000000971                          2810.00   \n",
              "\n",
              "                 JJ_CTRL_141048_INTER-Str_counts  \\\n",
              "ENSG00000000419                          1880.00   \n",
              "ENSG00000000457                           777.00   \n",
              "ENSG00000000460                           999.00   \n",
              "ENSG00000000938                             1.13   \n",
              "ENSG00000000971                          2820.00   \n",
              "\n",
              "                 JJ_CTRL_141054_INTER-Str_counts  \\\n",
              "ENSG00000000419                          1610.00   \n",
              "ENSG00000000457                           744.00   \n",
              "ENSG00000000460                           906.00   \n",
              "ENSG00000000938                             3.43   \n",
              "ENSG00000000971                          2450.00   \n",
              "\n",
              "                 JJ_CTRL_141060_INTER-Str_counts  \n",
              "ENSG00000000419                          1760.00  \n",
              "ENSG00000000457                           795.00  \n",
              "ENSG00000000460                           791.00  \n",
              "ENSG00000000938                             1.28  \n",
              "ENSG00000000971                          2560.00  "
            ],
            "text/html": [
              "\n",
              "  <div id=\"df-846a595f-511b-47d7-8326-6f671eaa2323\" class=\"colab-df-container\">\n",
              "    <div>\n",
              "<style scoped>\n",
              "    .dataframe tbody tr th:only-of-type {\n",
              "        vertical-align: middle;\n",
              "    }\n",
              "\n",
              "    .dataframe tbody tr th {\n",
              "        vertical-align: top;\n",
              "    }\n",
              "\n",
              "    .dataframe thead th {\n",
              "        text-align: right;\n",
              "    }\n",
              "</style>\n",
              "<table border=\"1\" class=\"dataframe\">\n",
              "  <thead>\n",
              "    <tr style=\"text-align: right;\">\n",
              "      <th></th>\n",
              "      <th>Gene_Name</th>\n",
              "      <th>JJ_AMIL_141050_INTER-Str_counts</th>\n",
              "      <th>JJ_AMIL_141056_INTER-Str_counts</th>\n",
              "      <th>JJ_AMIL_141062_INTER-Str_counts</th>\n",
              "      <th>JJ_CTRL_141048_INTER-Str_counts</th>\n",
              "      <th>JJ_CTRL_141054_INTER-Str_counts</th>\n",
              "      <th>JJ_CTRL_141060_INTER-Str_counts</th>\n",
              "    </tr>\n",
              "  </thead>\n",
              "  <tbody>\n",
              "    <tr>\n",
              "      <th>ENSG00000000419</th>\n",
              "      <td>DPM1</td>\n",
              "      <td>1520.00</td>\n",
              "      <td>2420.00</td>\n",
              "      <td>2820.00</td>\n",
              "      <td>1880.00</td>\n",
              "      <td>1610.00</td>\n",
              "      <td>1760.00</td>\n",
              "    </tr>\n",
              "    <tr>\n",
              "      <th>ENSG00000000457</th>\n",
              "      <td>SCYL3</td>\n",
              "      <td>675.00</td>\n",
              "      <td>765.00</td>\n",
              "      <td>772.00</td>\n",
              "      <td>777.00</td>\n",
              "      <td>744.00</td>\n",
              "      <td>795.00</td>\n",
              "    </tr>\n",
              "    <tr>\n",
              "      <th>ENSG00000000460</th>\n",
              "      <td>FIRRM</td>\n",
              "      <td>1110.00</td>\n",
              "      <td>1060.00</td>\n",
              "      <td>855.00</td>\n",
              "      <td>999.00</td>\n",
              "      <td>906.00</td>\n",
              "      <td>791.00</td>\n",
              "    </tr>\n",
              "    <tr>\n",
              "      <th>ENSG00000000938</th>\n",
              "      <td>FGR</td>\n",
              "      <td>3.96</td>\n",
              "      <td>2.41</td>\n",
              "      <td>3.68</td>\n",
              "      <td>1.13</td>\n",
              "      <td>3.43</td>\n",
              "      <td>1.28</td>\n",
              "    </tr>\n",
              "    <tr>\n",
              "      <th>ENSG00000000971</th>\n",
              "      <td>CFH</td>\n",
              "      <td>3000.00</td>\n",
              "      <td>2570.00</td>\n",
              "      <td>2810.00</td>\n",
              "      <td>2820.00</td>\n",
              "      <td>2450.00</td>\n",
              "      <td>2560.00</td>\n",
              "    </tr>\n",
              "  </tbody>\n",
              "</table>\n",
              "</div>\n",
              "    <div class=\"colab-df-buttons\">\n",
              "\n",
              "  <div class=\"colab-df-container\">\n",
              "    <button class=\"colab-df-convert\" onclick=\"convertToInteractive('df-846a595f-511b-47d7-8326-6f671eaa2323')\"\n",
              "            title=\"Convert this dataframe to an interactive table.\"\n",
              "            style=\"display:none;\">\n",
              "\n",
              "  <svg xmlns=\"http://www.w3.org/2000/svg\" height=\"24px\" viewBox=\"0 -960 960 960\">\n",
              "    <path d=\"M120-120v-720h720v720H120Zm60-500h600v-160H180v160Zm220 220h160v-160H400v160Zm0 220h160v-160H400v160ZM180-400h160v-160H180v160Zm440 0h160v-160H620v160ZM180-180h160v-160H180v160Zm440 0h160v-160H620v160Z\"/>\n",
              "  </svg>\n",
              "    </button>\n",
              "\n",
              "  <style>\n",
              "    .colab-df-container {\n",
              "      display:flex;\n",
              "      gap: 12px;\n",
              "    }\n",
              "\n",
              "    .colab-df-convert {\n",
              "      background-color: #E8F0FE;\n",
              "      border: none;\n",
              "      border-radius: 50%;\n",
              "      cursor: pointer;\n",
              "      display: none;\n",
              "      fill: #1967D2;\n",
              "      height: 32px;\n",
              "      padding: 0 0 0 0;\n",
              "      width: 32px;\n",
              "    }\n",
              "\n",
              "    .colab-df-convert:hover {\n",
              "      background-color: #E2EBFA;\n",
              "      box-shadow: 0px 1px 2px rgba(60, 64, 67, 0.3), 0px 1px 3px 1px rgba(60, 64, 67, 0.15);\n",
              "      fill: #174EA6;\n",
              "    }\n",
              "\n",
              "    .colab-df-buttons div {\n",
              "      margin-bottom: 4px;\n",
              "    }\n",
              "\n",
              "    [theme=dark] .colab-df-convert {\n",
              "      background-color: #3B4455;\n",
              "      fill: #D2E3FC;\n",
              "    }\n",
              "\n",
              "    [theme=dark] .colab-df-convert:hover {\n",
              "      background-color: #434B5C;\n",
              "      box-shadow: 0px 1px 3px 1px rgba(0, 0, 0, 0.15);\n",
              "      filter: drop-shadow(0px 1px 2px rgba(0, 0, 0, 0.3));\n",
              "      fill: #FFFFFF;\n",
              "    }\n",
              "  </style>\n",
              "\n",
              "    <script>\n",
              "      const buttonEl =\n",
              "        document.querySelector('#df-846a595f-511b-47d7-8326-6f671eaa2323 button.colab-df-convert');\n",
              "      buttonEl.style.display =\n",
              "        google.colab.kernel.accessAllowed ? 'block' : 'none';\n",
              "\n",
              "      async function convertToInteractive(key) {\n",
              "        const element = document.querySelector('#df-846a595f-511b-47d7-8326-6f671eaa2323');\n",
              "        const dataTable =\n",
              "          await google.colab.kernel.invokeFunction('convertToInteractive',\n",
              "                                                    [key], {});\n",
              "        if (!dataTable) return;\n",
              "\n",
              "        const docLinkHtml = 'Like what you see? Visit the ' +\n",
              "          '<a target=\"_blank\" href=https://colab.research.google.com/notebooks/data_table.ipynb>data table notebook</a>'\n",
              "          + ' to learn more about interactive tables.';\n",
              "        element.innerHTML = '';\n",
              "        dataTable['output_type'] = 'display_data';\n",
              "        await google.colab.output.renderOutput(dataTable, element);\n",
              "        const docLink = document.createElement('div');\n",
              "        docLink.innerHTML = docLinkHtml;\n",
              "        element.appendChild(docLink);\n",
              "      }\n",
              "    </script>\n",
              "  </div>\n",
              "\n",
              "\n",
              "<div id=\"df-bacc5157-3ac1-4964-92e0-905f557d3e9f\">\n",
              "  <button class=\"colab-df-quickchart\" onclick=\"quickchart('df-bacc5157-3ac1-4964-92e0-905f557d3e9f')\"\n",
              "            title=\"Suggest charts\"\n",
              "            style=\"display:none;\">\n",
              "\n",
              "<svg xmlns=\"http://www.w3.org/2000/svg\" height=\"24px\"viewBox=\"0 0 24 24\"\n",
              "     width=\"24px\">\n",
              "    <g>\n",
              "        <path d=\"M19 3H5c-1.1 0-2 .9-2 2v14c0 1.1.9 2 2 2h14c1.1 0 2-.9 2-2V5c0-1.1-.9-2-2-2zM9 17H7v-7h2v7zm4 0h-2V7h2v10zm4 0h-2v-4h2v4z\"/>\n",
              "    </g>\n",
              "</svg>\n",
              "  </button>\n",
              "\n",
              "<style>\n",
              "  .colab-df-quickchart {\n",
              "      --bg-color: #E8F0FE;\n",
              "      --fill-color: #1967D2;\n",
              "      --hover-bg-color: #E2EBFA;\n",
              "      --hover-fill-color: #174EA6;\n",
              "      --disabled-fill-color: #AAA;\n",
              "      --disabled-bg-color: #DDD;\n",
              "  }\n",
              "\n",
              "  [theme=dark] .colab-df-quickchart {\n",
              "      --bg-color: #3B4455;\n",
              "      --fill-color: #D2E3FC;\n",
              "      --hover-bg-color: #434B5C;\n",
              "      --hover-fill-color: #FFFFFF;\n",
              "      --disabled-bg-color: #3B4455;\n",
              "      --disabled-fill-color: #666;\n",
              "  }\n",
              "\n",
              "  .colab-df-quickchart {\n",
              "    background-color: var(--bg-color);\n",
              "    border: none;\n",
              "    border-radius: 50%;\n",
              "    cursor: pointer;\n",
              "    display: none;\n",
              "    fill: var(--fill-color);\n",
              "    height: 32px;\n",
              "    padding: 0;\n",
              "    width: 32px;\n",
              "  }\n",
              "\n",
              "  .colab-df-quickchart:hover {\n",
              "    background-color: var(--hover-bg-color);\n",
              "    box-shadow: 0 1px 2px rgba(60, 64, 67, 0.3), 0 1px 3px 1px rgba(60, 64, 67, 0.15);\n",
              "    fill: var(--button-hover-fill-color);\n",
              "  }\n",
              "\n",
              "  .colab-df-quickchart-complete:disabled,\n",
              "  .colab-df-quickchart-complete:disabled:hover {\n",
              "    background-color: var(--disabled-bg-color);\n",
              "    fill: var(--disabled-fill-color);\n",
              "    box-shadow: none;\n",
              "  }\n",
              "\n",
              "  .colab-df-spinner {\n",
              "    border: 2px solid var(--fill-color);\n",
              "    border-color: transparent;\n",
              "    border-bottom-color: var(--fill-color);\n",
              "    animation:\n",
              "      spin 1s steps(1) infinite;\n",
              "  }\n",
              "\n",
              "  @keyframes spin {\n",
              "    0% {\n",
              "      border-color: transparent;\n",
              "      border-bottom-color: var(--fill-color);\n",
              "      border-left-color: var(--fill-color);\n",
              "    }\n",
              "    20% {\n",
              "      border-color: transparent;\n",
              "      border-left-color: var(--fill-color);\n",
              "      border-top-color: var(--fill-color);\n",
              "    }\n",
              "    30% {\n",
              "      border-color: transparent;\n",
              "      border-left-color: var(--fill-color);\n",
              "      border-top-color: var(--fill-color);\n",
              "      border-right-color: var(--fill-color);\n",
              "    }\n",
              "    40% {\n",
              "      border-color: transparent;\n",
              "      border-right-color: var(--fill-color);\n",
              "      border-top-color: var(--fill-color);\n",
              "    }\n",
              "    60% {\n",
              "      border-color: transparent;\n",
              "      border-right-color: var(--fill-color);\n",
              "    }\n",
              "    80% {\n",
              "      border-color: transparent;\n",
              "      border-right-color: var(--fill-color);\n",
              "      border-bottom-color: var(--fill-color);\n",
              "    }\n",
              "    90% {\n",
              "      border-color: transparent;\n",
              "      border-bottom-color: var(--fill-color);\n",
              "    }\n",
              "  }\n",
              "</style>\n",
              "\n",
              "  <script>\n",
              "    async function quickchart(key) {\n",
              "      const quickchartButtonEl =\n",
              "        document.querySelector('#' + key + ' button');\n",
              "      quickchartButtonEl.disabled = true;  // To prevent multiple clicks.\n",
              "      quickchartButtonEl.classList.add('colab-df-spinner');\n",
              "      try {\n",
              "        const charts = await google.colab.kernel.invokeFunction(\n",
              "            'suggestCharts', [key], {});\n",
              "      } catch (error) {\n",
              "        console.error('Error during call to suggestCharts:', error);\n",
              "      }\n",
              "      quickchartButtonEl.classList.remove('colab-df-spinner');\n",
              "      quickchartButtonEl.classList.add('colab-df-quickchart-complete');\n",
              "    }\n",
              "    (() => {\n",
              "      let quickchartButtonEl =\n",
              "        document.querySelector('#df-bacc5157-3ac1-4964-92e0-905f557d3e9f button');\n",
              "      quickchartButtonEl.style.display =\n",
              "        google.colab.kernel.accessAllowed ? 'block' : 'none';\n",
              "    })();\n",
              "  </script>\n",
              "</div>\n",
              "\n",
              "    </div>\n",
              "  </div>\n"
            ],
            "application/vnd.google.colaboratory.intrinsic+json": {
              "type": "dataframe",
              "variable_name": "count_matrix_gene_names",
              "summary": "{\n  \"name\": \"count_matrix_gene_names\",\n  \"rows\": 23044,\n  \"fields\": [\n    {\n      \"column\": \"Gene_Name\",\n      \"properties\": {\n        \"dtype\": \"string\",\n        \"num_unique_values\": 19871,\n        \"samples\": [\n          \"AMPD1\",\n          \"DUSP13B\",\n          \"UBR4\"\n        ],\n        \"semantic_type\": \"\",\n        \"description\": \"\"\n      }\n    },\n    {\n      \"column\": \"JJ_AMIL_141050_INTER-Str_counts\",\n      \"properties\": {\n        \"dtype\": \"number\",\n        \"std\": 4615.739107462292,\n        \"min\": 0.0,\n        \"max\": 182000.0,\n        \"num_unique_values\": 1759,\n        \"samples\": [\n          986.0,\n          851.0,\n          8770.0\n        ],\n        \"semantic_type\": \"\",\n        \"description\": \"\"\n      }\n    },\n    {\n      \"column\": \"JJ_AMIL_141056_INTER-Str_counts\",\n      \"properties\": {\n        \"dtype\": \"number\",\n        \"std\": 4510.666647545641,\n        \"min\": 0.0,\n        \"max\": 166000.0,\n        \"num_unique_values\": 2007,\n        \"samples\": [\n          592.0,\n          879.0,\n          895.0\n        ],\n        \"semantic_type\": \"\",\n        \"description\": \"\"\n      }\n    },\n    {\n      \"column\": \"JJ_AMIL_141062_INTER-Str_counts\",\n      \"properties\": {\n        \"dtype\": \"number\",\n        \"std\": 4515.703977373787,\n        \"min\": 0.0,\n        \"max\": 158000.0,\n        \"num_unique_values\": 2022,\n        \"samples\": [\n          2520.0,\n          928.0,\n          67.7\n        ],\n        \"semantic_type\": \"\",\n        \"description\": \"\"\n      }\n    },\n    {\n      \"column\": \"JJ_CTRL_141048_INTER-Str_counts\",\n      \"properties\": {\n        \"dtype\": \"number\",\n        \"std\": 5616.436617813766,\n        \"min\": 0.0,\n        \"max\": 262000.0,\n        \"num_unique_values\": 1920,\n        \"samples\": [\n          622.0,\n          9200.0,\n          109000.0\n        ],\n        \"semantic_type\": \"\",\n        \"description\": \"\"\n      }\n    },\n    {\n      \"column\": \"JJ_CTRL_141054_INTER-Str_counts\",\n      \"properties\": {\n        \"dtype\": \"number\",\n        \"std\": 5518.052621412827,\n        \"min\": 0.0,\n        \"max\": 261000.0,\n        \"num_unique_values\": 2022,\n        \"samples\": [\n          2260.0,\n          6660.0,\n          279.0\n        ],\n        \"semantic_type\": \"\",\n        \"description\": \"\"\n      }\n    },\n    {\n      \"column\": \"JJ_CTRL_141060_INTER-Str_counts\",\n      \"properties\": {\n        \"dtype\": \"number\",\n        \"std\": 5659.2511255400705,\n        \"min\": 0.0,\n        \"max\": 297000.0,\n        \"num_unique_values\": 1772,\n        \"samples\": [\n          4360.0,\n          838.0,\n          5060.0\n        ],\n        \"semantic_type\": \"\",\n        \"description\": \"\"\n      }\n    }\n  ]\n}"
            }
          },
          "metadata": {},
          "execution_count": 6
        }
      ]
    },
    {
      "cell_type": "code",
      "source": [
        "# Download CSV\n",
        "from google.colab import files\n",
        "count_matrix_gene_names.to_csv('count_matrix_gene_names.csv')\n",
        "files.download('count_matrix_gene_names.csv')"
      ],
      "metadata": {
        "id": "1ms4nqpMFD6J"
      },
      "execution_count": null,
      "outputs": []
    },
    {
      "cell_type": "markdown",
      "source": [
        "### **Exploratory Data Analysis**"
      ],
      "metadata": {
        "id": "wn0ZdiPVtsHj"
      }
    },
    {
      "cell_type": "code",
      "source": [
        "def visualize_rnaseq_qc(count_matrix, figure_size=(15, 12)):\n",
        "    # Drop the Gene Name column for counting\n",
        "    countlist_no_name = count_matrix.iloc[:, 1:]\n",
        "\n",
        "    # Calculate total counts and log transform\n",
        "    total_counts = countlist_no_name.sum(axis=0)\n",
        "    log_counts = countlist_no_name.apply(lambda x: np.log2(x + 1))\n",
        "\n",
        "    # Create main visualization figure\n",
        "    fig1, axes = plt.subplots(2, 2, figsize=figure_size)\n",
        "\n",
        "    # Panel 1: Total counts per sample\n",
        "    sns.barplot(x=countlist_no_name.columns, y=total_counts, color='skyblue', ax=axes[0,0])\n",
        "    axes[0,0].set_ylabel('Total Counts')\n",
        "    axes[0,0].set_title('Total Counts per Sample')\n",
        "    axes[0,0].tick_params(axis='x', rotation=85)\n",
        "\n",
        "    # Panel 2: Log transformed counts distribution\n",
        "    log_counts.boxplot(ax=axes[0,1])\n",
        "    axes[0,1].set_ylabel('Log2(Counts + 1)')\n",
        "    axes[0,1].set_title('Log Transformed Counts per Sample')\n",
        "    axes[0,1].tick_params(axis='x', rotation=85)\n",
        "\n",
        "    # Panel 3: Sample correlation heatmap\n",
        "    correlation_matrix = log_counts.corr()\n",
        "    sns.heatmap(correlation_matrix, annot=True, cmap='coolwarm', center=0.5, vmin=0, vmax=1, ax=axes[1,0])\n",
        "    axes[1,0].set_title('Sample Correlation Matrix')\n",
        "\n",
        "    # Panel 4: PCA plot\n",
        "    pca = PCA(n_components=2)\n",
        "    scaler = StandardScaler()\n",
        "    pca_result = pca.fit_transform(scaler.fit_transform(log_counts.T))\n",
        "    pca_df = pd.DataFrame(data=pca_result, columns=['PC1', 'PC2'], index=log_counts.columns)\n",
        "    sns.scatterplot(data=pca_df, x='PC1', y='PC2', s=100, ax=axes[1,1])\n",
        "    for idx, row in pca_df.iterrows():\n",
        "        axes[1,1].annotate(idx, (row['PC1'], row['PC2']))\n",
        "    axes[1,1].set_title(f'PCA Plot\\nPC1 ({pca.explained_variance_ratio_[0]:.1%}) vs PC2 ({pca.explained_variance_ratio_[1]:.1%})')\n",
        "    plt.tight_layout()\n",
        "\n",
        "    # Create dendrogram figure\n",
        "    fig2 = plt.figure(figsize=(8, 6))\n",
        "    h_clustering = linkage(log_counts.T, 'ward')\n",
        "    dendrogram(h_clustering, labels=countlist_no_name.columns)\n",
        "    plt.xticks(rotation=90)\n",
        "    plt.ylabel('Distance')\n",
        "    plt.title('Sample Clustering Dendrogram')\n",
        "\n",
        "    # Generate QC metrics\n",
        "    qc_stats = {\n",
        "        'total_reads': total_counts.sum(),\n",
        "        'mean_reads_per_sample': total_counts.mean(),\n",
        "        'cv_reads': total_counts.std() / total_counts.mean(),\n",
        "        'min_sample_correlation': correlation_matrix.min().min(),\n",
        "        'max_sample_correlation': correlation_matrix.max().min(),\n",
        "        'pc1_variance': pca.explained_variance_ratio_[0],\n",
        "        'pc2_variance': pca.explained_variance_ratio_[1]}\n",
        "    print(\"\\nRNA-seq Quality Control Metrics:\")\n",
        "    print(f\"Total sequencing depth: {qc_stats['total_reads']:,.0f}\")\n",
        "    print(f\"Mean reads per sample: {qc_stats['mean_reads_per_sample']:,.0f}\")\n",
        "    return fig1, fig2, qc_stats"
      ],
      "metadata": {
        "id": "ZHg9fdcYN6U5"
      },
      "execution_count": null,
      "outputs": []
    },
    {
      "cell_type": "code",
      "source": [
        "# Example usage\n",
        "'''\n",
        "main_fig, dendrogram_fig, stats = visualize_rnaseq_qc(count_matrix=count_matrix_gene_names,figure_size=(15, 10))\n",
        "plt.show()\n",
        "'''"
      ],
      "metadata": {
        "id": "OUE0ykmgIldV"
      },
      "execution_count": null,
      "outputs": []
    },
    {
      "cell_type": "markdown",
      "source": [
        "# **Quality Control, Filtering, and Normalization**\n"
      ],
      "metadata": {
        "id": "V0uLDlEw8Pfe"
      }
    },
    {
      "cell_type": "code",
      "source": [
        "# plot the number of genes retained as a function of differnet CPM thresholds\n",
        "def plot_genes_retained_by_cpm(data, min_samples=2):\n",
        "    # convert raw counts to CPM to normalize the data\n",
        "    cpm = data.apply(lambda x: (x / x.sum()) * 1e6) #convert raw counts to CPM to normalize\n",
        "    # define a range of CPM thresholds to test, from 0 to 5 with increments of 0.1\n",
        "    thresholds = np.arange(0, 5, 0.1)\n",
        "    # initialize list to store the # of genes retained for ea/ threshold\n",
        "    genes_retained = []\n",
        "\n",
        "    # loop through ea/ threshold value to determine the # of genes retained\n",
        "    for min_cpm in thresholds:\n",
        "        # create mask where CPM > min_cpm in at least min_samples samples\n",
        "        mask = (cpm > min_cpm).sum(axis=1) >= min_samples\n",
        "        # count # of genes that meet the criteria and append to the list\n",
        "        genes_retained.append(mask.sum())\n",
        "\n",
        "    # plot # of genes retained as a function of CPM threshold\n",
        "    plt.figure(figsize=(10, 6))\n",
        "    plt.plot(thresholds, genes_retained, marker='o', color='green')\n",
        "    plt.axvline(x=1.0, color='red', linestyle='--', label='CPM = 1')\n",
        "    plt.xlabel('Threshold (CPM)')\n",
        "    plt.ylabel('Num Genes Retained')\n",
        "    plt.legend()\n",
        "    plt.show()"
      ],
      "metadata": {
        "id": "69iYcsex20a2"
      },
      "execution_count": null,
      "outputs": []
    },
    {
      "cell_type": "code",
      "source": [
        "# Example useage\n",
        "'''\n",
        "# Drop the Gene Name column from count_matrix_gene_names for counting\n",
        "countlist_no_name = count_matrix_gene_names.iloc[:, 1:]\n",
        "\n",
        "# call plot_genes_retained_by_cpm function\n",
        "plot_genes_retained_by_cpm(countlist_no_name)\n",
        "'''"
      ],
      "metadata": {
        "id": "xlvO35K5Ipn5",
        "colab": {
          "base_uri": "https://localhost:8080/",
          "height": 542
        },
        "outputId": "32b4ec28-2188-476c-adfa-f5f27ea1c043"
      },
      "execution_count": null,
      "outputs": [
        {
          "output_type": "display_data",
          "data": {
            "text/plain": [
              "<Figure size 1000x600 with 1 Axes>"
            ],
            "image/png": "[encoded data removed]"
          },
          "metadata": {}
        }
      ]
    },
    {
      "cell_type": "code",
      "source": [
        "def filter_normalize(data, min_cpm=1.0, min_samples=2):\n",
        "    # Extract structural components\n",
        "    gene_names = data.iloc[:, 0]\n",
        "    raw_counts = data.iloc[:, 1:]\n",
        "\n",
        "    # Implement DESeq2-style filtering\n",
        "    lib_sizes = raw_counts.sum(axis=0)\n",
        "    cpm = raw_counts.div(lib_sizes, axis=1) * 1e6\n",
        "    mask = (cpm > min_cpm).sum(axis=1) >= min_samples\n",
        "\n",
        "    # Apply filtration criteria\n",
        "    filtered_counts = raw_counts[mask]\n",
        "    filtered_gene_names = gene_names[mask]\n",
        "\n",
        "    # Calculate geometric means with DESeq2-inspired approach\n",
        "    log_counts = np.log(filtered_counts.replace(0, np.nan))\n",
        "    geometric_means = np.exp(log_counts.mean(axis=1))\n",
        "\n",
        "    # Estimate size factors using DESeq2 methodology\n",
        "    size_factor_ratios = filtered_counts.div(geometric_means, axis=0)\n",
        "    size_factors = size_factor_ratios.median(axis=0)\n",
        "\n",
        "    # Apply normalization transformation\n",
        "    normalized_counts = filtered_counts.div(size_factors, axis=1)\n",
        "\n",
        "    # Reconstruct data architecture\n",
        "    normalized_data = pd.concat([filtered_gene_names, normalized_counts], axis=1)\n",
        "\n",
        "    # Generate diagnostic metrics\n",
        "    diagnostics = {'total_genes_initial': len(data),'genes_post_filtering': len(normalized_data),'size_factors': size_factors.to_dict(),'mean_size_factor': size_factors.mean(),'size_factor_variance': size_factors.var()}\n",
        "\n",
        "    return normalized_data, diagnostics\n"
      ],
      "metadata": {
        "id": "2FMRDeDQOSwr"
      },
      "execution_count": null,
      "outputs": []
    },
    {
      "cell_type": "code",
      "source": [
        "# Example implementation with diagnostic output\n",
        "'''\n",
        "filtered_normalized_count_matrix, stats = filter_normalize(count_matrix_gene_names,  min_cpm=1.0, min_samples=2)\n",
        "print(stats)\n",
        "'''"
      ],
      "metadata": {
        "id": "hquAD52dIs0_",
        "colab": {
          "base_uri": "https://localhost:8080/"
        },
        "outputId": "872c1b09-0f5c-46c7-e251-8c8132dd0ea5"
      },
      "execution_count": null,
      "outputs": [
        {
          "output_type": "stream",
          "name": "stdout",
          "text": [
            "{'total_genes_initial': 23044, 'genes_post_filtering': 13557, 'size_factors': {'JJ_AMIL_141050_INTER-Str_counts': 1.0027688405136876, 'JJ_AMIL_141056_INTER-Str_counts': 1.0048870898107296, 'JJ_AMIL_141062_INTER-Str_counts': 1.0011096285714167, 'JJ_CTRL_141048_INTER-Str_counts': 1.0071996800856784, 'JJ_CTRL_141054_INTER-Str_counts': 0.999004128898606, 'JJ_CTRL_141060_INTER-Str_counts': 0.9990038091556457}, 'mean_size_factor': 1.002328862839294, 'size_factor_variance': 1.0811867242898648e-05}\n"
          ]
        }
      ]
    },
    {
      "cell_type": "code",
      "source": [
        "# Download CSV\n",
        "from google.colab import files\n",
        "filtered_normalized_count_matrix.to_csv('filtered_normalized_count_matrix.csv')\n",
        "files.download('filtered_normalized_count_matrix.csv')"
      ],
      "metadata": {
        "id": "DXo18pBMFLoC"
      },
      "execution_count": null,
      "outputs": []
    },
    {
      "cell_type": "code",
      "source": [
        "# Plot the distribution of data after normalization\n",
        "fig, axes = plt.subplots(1, 2, figsize=(18, 6))\n",
        "\n",
        "# Total normalized counts per sample\n",
        "total_counts_normalized = filtered_normalized_count_matrix.iloc[:, 1:].sum(axis=0)  # Exclude gene_name column\n",
        "axes[0].bar(filtered_normalized_count_matrix.columns[1:], total_counts_normalized, color='lightcoral')\n",
        "axes[0].set_ylabel('Total Normalized Counts')\n",
        "axes[0].set_title('Total Counts per Sample (Normalized)')\n",
        "axes[0].tick_params(axis='x', rotation=85)\n",
        "\n",
        "# Log-transformed normalized counts per sample\n",
        "log_normalized_data = filtered_normalized_count_matrix.iloc[:, 1:].apply(lambda x: np.log2(x + 1), axis=0)  # Exclude gene_name column\n",
        "log_normalized_data.boxplot(ax=axes[1])\n",
        "axes[1].set_ylabel('Log2(Normalized Counts + 1)')\n",
        "axes[1].set_title('Log Transformed Counts per Sample (Normalized)')\n",
        "axes[1].tick_params(axis='x', rotation=85)\n",
        "\n",
        "plt.tight_layout()\n",
        "plt.show()"
      ],
      "metadata": {
        "colab": {
          "base_uri": "https://localhost:8080/",
          "height": 116
        },
        "id": "lvyw_fkF36V2",
        "outputId": "82c61907-5eb9-455e-932b-f4083cf7b277"
      },
      "execution_count": null,
      "outputs": [
        {
          "output_type": "execute_result",
          "data": {
            "text/plain": [
              "\"\\n# Plot the distribution of data after normalization\\nfig, axes = plt.subplots(1, 2, figsize=(18, 6))\\n\\n# Total normalized counts per sample\\ntotal_counts_normalized = filtered_normalized_count_matrix.iloc[:, 1:].sum(axis=0)  # Exclude gene_name column\\naxes[0].bar(filtered_normalized_count_matrix.columns[1:], total_counts_normalized, color='lightcoral')\\naxes[0].set_ylabel('Total Normalized Counts')\\naxes[0].set_title('Total Counts per Sample (Normalized)')\\naxes[0].tick_params(axis='x', rotation=85)\\n\\n# Log-transformed normalized counts per sample\\nlog_normalized_data = filtered_normalized_count_matrix.iloc[:, 1:].apply(lambda x: np.log2(x + 1), axis=0)  # Exclude gene_name column\\nlog_normalized_data.boxplot(ax=axes[1])\\naxes[1].set_ylabel('Log2(Normalized Counts + 1)')\\naxes[1].set_title('Log Transformed Counts per Sample (Normalized)')\\naxes[1].tick_params(axis='x', rotation=85)\\n\\nplt.tight_layout()\\nplt.show()\\n\""
            ],
            "application/vnd.google.colaboratory.intrinsic+json": {
              "type": "string"
            }
          },
          "metadata": {},
          "execution_count": 169
        }
      ]
    },
    {
      "cell_type": "markdown",
      "source": [
        "# **Differential Expression Analysis**"
      ],
      "metadata": {
        "id": "QhLsxb7Z4rf-"
      }
    },
    {
      "cell_type": "code",
      "source": [
        "def analyze_differential_expression(expression_matrix, treatment_columns, control_columns,alpha=0.05, lfc_threshold=1.0):\n",
        "    # Input validation\n",
        "    if not all(col in expression_matrix.columns for col in treatment_columns + control_columns):\n",
        "        raise ValueError(\"Specified columns not found in expression matrix\")\n",
        "\n",
        "    # Initialize results collection\n",
        "    results = []\n",
        "\n",
        "    # Perform gene-wise differential expression analysis\n",
        "    for gene in expression_matrix.index:\n",
        "        try:\n",
        "            # Extract and validate group-wise expression values\n",
        "            treated = pd.to_numeric(expression_matrix.loc[gene, treatment_columns], errors='coerce')\n",
        "            control = pd.to_numeric(expression_matrix.loc[gene, control_columns], errors='coerce')\n",
        "\n",
        "            # Remove missing values\n",
        "            treated = treated.dropna()\n",
        "            control = control.dropna()\n",
        "\n",
        "            # Validate sufficient data points\n",
        "            if treated.empty or control.empty:\n",
        "                continue\n",
        "\n",
        "            # Calculate expression statistics\n",
        "            mean_control = np.mean(control)\n",
        "            mean_treated = np.mean(treated)\n",
        "\n",
        "            # Compute fold change with pseudo-count\n",
        "            log2fc = np.log2((mean_treated + 1) / (mean_control + 1))\n",
        "\n",
        "            # Perform Welch's t-test (equal_var=False)\n",
        "            t_stat, p_val = ttest_ind(treated, control, equal_var=False)\n",
        "\n",
        "            # Compile gene-wise results\n",
        "            results.append({\n",
        "                \"gene\": gene,\n",
        "                \"Gene_Name\": expression_matrix.loc[gene, \"Gene_Name\"] if \"Gene_Name\" in expression_matrix.columns else gene,\n",
        "                \"log2fc\": log2fc,\n",
        "                \"mean_treated\": mean_treated,\n",
        "                \"mean_control\": mean_control,\n",
        "                \"t_stat\": t_stat,\n",
        "                \"p_val\": p_val,\n",
        "                \"var_treated\": np.var(treated),\n",
        "                \"var_control\": np.var(control)})\n",
        "\n",
        "        except Exception as e:\n",
        "            print(f\"Warning: Error processing gene {gene}: {str(e)}\")\n",
        "            continue\n",
        "\n",
        "    # Convert to DataFrame and perform quality control\n",
        "    results_df = pd.DataFrame(results)\n",
        "    results_df['p_val'] = pd.to_numeric(results_df['p_val'], errors='coerce')\n",
        "    results_df = results_df.dropna(subset=['p_val'])\n",
        "\n",
        "    # Apply multiple testing correction\n",
        "    results_df['p_adj'] = multipletests(results_df['p_val'], method='fdr_bh')[1]\n",
        "\n",
        "    # Calculate absolute fold change\n",
        "    results_df['abs_log2fc'] = results_df['log2fc'].abs()\n",
        "\n",
        "    # Define significance criteria\n",
        "    results_df['significant'] = (results_df['p_adj'] < alpha) & \\\n",
        "                               (results_df['abs_log2fc'] > lfc_threshold)\n",
        "\n",
        "    # Generate summary statistics\n",
        "    summary_stats = {\n",
        "        'total_genes': len(results_df),\n",
        "        'significant_genes': results_df['significant'].sum(),\n",
        "        'up_regulated': sum((results_df['significant']) & (results_df['log2fc'] > 0)),\n",
        "        'down_regulated': sum((results_df['significant']) & (results_df['log2fc'] < 0)),\n",
        "        'mean_variance_ratio': np.mean(results_df['var_treated'] / results_df['var_control'])}\n",
        "\n",
        "    # Sort by statistical significance\n",
        "    results_df = results_df.sort_values('p_adj')\n",
        "\n",
        "    print(\"\\nDifferential Expression Analysis Summary:\")\n",
        "    print(f\"Total genes analyzed: {summary_stats['total_genes']}\")\n",
        "    print(f\"Significant genes: {summary_stats['significant_genes']}\")\n",
        "    print(f\"Up-regulated: {summary_stats['up_regulated']}\")\n",
        "    print(f\"Down-regulated: {summary_stats['down_regulated']}\")\n",
        "    print(f\"Mean variance ratio (treated/control): {summary_stats['mean_variance_ratio']:.2f}\")\n",
        "\n",
        "    return results_df, summary_stats"
      ],
      "metadata": {
        "id": "eDy-SmyrE2NF"
      },
      "execution_count": 45,
      "outputs": []
    },
    {
      "cell_type": "code",
      "source": [
        "# Example usage...\n",
        "'''\n",
        "treatment_samples = [...] # column identifiers for treatment condition samples\n",
        "control_samples = [...] # column identifiers for control condition samples\n",
        "\n",
        "welch_results, welch_stats = analyze_differential_expression(\n",
        "    expression_matrix=filtered_normalized_count_matrix,\n",
        "    treatment_columns=treatment_samples,\n",
        "    control_columns=control_samples,\n",
        "    alpha=0.05,  # default significance threshold\n",
        "    lfc_threshold=1.0)  # default log2 fold change threshold\n",
        "\n",
        "# Extract DEGs where 'significant' is True\n",
        "DEGs = welch_results[welch_results['significant'] == True]\n",
        "DEGs.head()\n",
        "'''"
      ],
      "metadata": {
        "id": "8RNXdz1wI0T8"
      },
      "execution_count": null,
      "outputs": []
    },
    {
      "cell_type": "code",
      "source": [
        "# Download CSV\n",
        "from google.colab import files\n",
        "results_df.to_csv('results_df.csv')\n",
        "files.download('results_df.csv')"
      ],
      "metadata": {
        "id": "YU-qBveWFOq9"
      },
      "execution_count": null,
      "outputs": []
    },
    {
      "cell_type": "code",
      "source": [
        "# Download CSV\n",
        "from google.colab import files\n",
        "DEGs.to_csv('DEGs.csv')\n",
        "files.download('DEGs.csv')"
      ],
      "metadata": {
        "id": "HT7qnxJxFShd"
      },
      "execution_count": null,
      "outputs": []
    },
    {
      "cell_type": "code",
      "source": [
        "def visualize_differential_expression_matrix(results_df, filtered_degs, expression_matrix, treatment_columns, control_columns, p_adj_threshold=0.05, abs_log2fc_threshold=1.0, figure_size=(10, 8)):\n",
        "    fig, axes = plt.subplots(2, 2, figsize=figure_size)\n",
        "    scatter_params = {'alpha': 0.8,'edgecolor': None,'palette': 'viridis'}\n",
        "\n",
        "    # Panel 1: Global Expression Landscape (Volcano Plot)\n",
        "    sns.scatterplot(data=results_df, x='log2fc', y='p_adj', hue='log2fc',ax=axes[0,0], **scatter_params)\n",
        "    axes[0,0].axhline(y=p_adj_threshold, color='red', linestyle='--', linewidth=1)\n",
        "    axes[0,0].axvline(x=abs_log2fc_threshold, color='blue', linestyle='--', linewidth=1)\n",
        "    axes[0,0].axvline(x=-abs_log2fc_threshold, color='blue', linestyle='--', linewidth=1)\n",
        "    axes[0,0].set_xlabel('log2 Fold Change')\n",
        "    axes[0,0].set_ylabel('Adjusted P-value')\n",
        "    axes[0,0].set_title('Global Expression Landscape')\n",
        "\n",
        "    # Panel 2: Fold Change Distribution (All Genes)\n",
        "    sns.histplot(data=results_df, x='abs_log2fc',bins=50, kde=True,ax=axes[0,1])\n",
        "\n",
        "    # Add vertical line at fold change threshold\n",
        "    axes[0,1].axvline(x=abs_log2fc_threshold, color='red', linestyle='--', linewidth=1)\n",
        "\n",
        "    axes[0,1].set_title('Distribution of Absolute log2FC (All Genes)')\n",
        "    axes[0,1].set_xlabel('Absolute log2 Fold Change')\n",
        "    axes[0,1].set_ylabel('Gene Frequency')\n",
        "\n",
        "    # Panel 3: MA Plot\n",
        "    results_df['mean_expression'] = np.log2((results_df['mean_treated'] + results_df['mean_control'])/2 + 1)\n",
        "\n",
        "    sns.scatterplot(data=results_df, x='mean_expression', y='log2fc', hue='significant' if 'significant' in results_df.columns else None, ax=axes[1,0], **scatter_params)\n",
        "    axes[1,0].axhline(y=0, color='red', linestyle='--', linewidth=1)\n",
        "    axes[1,0].set_title('MA Plot (Mean vs Fold Change)')\n",
        "    axes[1,0].set_xlabel('Mean Expression (log2)')\n",
        "    axes[1,0].set_ylabel('log2 Fold Change')\n",
        "\n",
        "    # Panel 4: Distribution of Adjusted P-values\n",
        "    sns.histplot(data=results_df,x='p_adj',bins=50, kde=True, ax=axes[1,1])\n",
        "\n",
        "    # Add vertical line at significance threshold\n",
        "    axes[1,1].axvline(x=p_adj_threshold, color='red', linestyle='--', linewidth=1)\n",
        "    axes[1,1].set_title('Distribution of Adjusted P-values')\n",
        "    axes[1,1].set_xlabel('Adjusted P-value')\n",
        "    axes[1,1].set_ylabel('Gene Frequency')\n",
        "\n",
        "    plt.tight_layout()\n",
        "\n",
        "    # Generate comprehensive analytical metrics\n",
        "    summary_stats = {\n",
        "        'total_genes': len(results_df),\n",
        "        'significant_genes': len(filtered_degs),\n",
        "        'mean_fold_change_all': results_df['abs_log2fc'].mean(),\n",
        "        'median_fold_change_all': results_df['abs_log2fc'].median(),\n",
        "        'max_fold_change': results_df['abs_log2fc'].max(),\n",
        "        'mean_fold_change_sig': filtered_degs['abs_log2fc'].mean(),\n",
        "        'median_padj': results_df['p_adj'].median(),\n",
        "        'genes_below_alpha': sum(results_df['p_adj'] < p_adj_threshold)}\n",
        "\n",
        "    print(\"\\nComprehensive Expression Analysis Metrics:\")\n",
        "    print(f\"Total genes analyzed: {summary_stats['total_genes']}\")\n",
        "    print(f\"Significant DEGs identified: {summary_stats['significant_genes']}\")\n",
        "    print(f\"Mean absolute log2FC (all genes): {summary_stats['mean_fold_change_all']:.2f}\")\n",
        "    print(f\"Mean absolute log2FC (significant): {summary_stats['mean_fold_change_sig']:.2f}\")\n",
        "    print(f\"Median adjusted p-value: {summary_stats['median_padj']:.3f}\")\n",
        "    print(f\"Genes below significance threshold: {summary_stats['genes_below_alpha']}\")\n",
        "    return fig, summary_stats"
      ],
      "metadata": {
        "id": "UmlicsPIG_Ik"
      },
      "execution_count": 49,
      "outputs": []
    },
    {
      "cell_type": "code",
      "source": [
        "# example usage\n",
        "'''\n",
        "fig, stats = visualize_differential_expression_matrix(\n",
        "    results_df=welch_results,          # Complete results from differential expression analysis\n",
        "    filtered_degs=DEGs,    # Subset of significant DEGs\n",
        "    expression_matrix=filtered_normalized_count_matrix,\n",
        "    treatment_columns=treatment_samples,\n",
        "    control_columns=control_samples)\n",
        "\n",
        "# Display the plot\n",
        "plt.show()\n",
        "'''"
      ],
      "metadata": {
        "id": "ZceyYTuJI7Yf",
        "colab": {
          "base_uri": "https://localhost:8080/",
          "height": 50
        },
        "outputId": "3b244fe5-00d2-402c-9e6f-2cf1abfd5f4b"
      },
      "execution_count": 51,
      "outputs": [
        {
          "output_type": "execute_result",
          "data": {
            "text/plain": [
              "'\\nfig, stats = visualize_differential_expression_matrix(\\n    results_df=welch_results,          # Complete results from differential expression analysis\\n    filtered_degs=DEGs,    # Subset of significant DEGs\\n    expression_matrix=filtered_normalized_count_matrix,\\n    treatment_columns=treatment_samples,\\n    control_columns=control_samples)\\n\\n# Display the plot\\nplt.show()\\n'"
            ],
            "application/vnd.google.colaboratory.intrinsic+json": {
              "type": "string"
            }
          },
          "metadata": {},
          "execution_count": 51
        }
      ]
    },
    {
      "cell_type": "markdown",
      "source": [
        "# **Extensions**"
      ],
      "metadata": {
        "id": "Cy7234wi6uW8"
      }
    },
    {
      "cell_type": "markdown",
      "source": [
        "## **Gene Co-Expression Network Analysis**"
      ],
      "metadata": {
        "id": "h7fR0bLywJdZ"
      }
    },
    {
      "cell_type": "code",
      "source": [
        "def analyze_gene_coexpression(filtered_normalized_countlist, treatment_pattern, control_pattern, n_genes=None, correlation_threshold=0.7):\n",
        "    # Subset the data to exclude rows with NaN values in the \"Gene_Name\" column\n",
        "    filtered_data = filtered_normalized_countlist.dropna(subset=[\"Gene_Name\"])\n",
        "\n",
        "    # Subset data for treatment and control\n",
        "    treatment = filtered_data.filter(regex=treatment_pattern)\n",
        "    control = filtered_data.filter(regex=control_pattern)\n",
        "\n",
        "    # Ensure the expression data is numeric\n",
        "    treatment_data_numeric = treatment.apply(pd.to_numeric, errors='coerce')\n",
        "    control_numeric = control.apply(pd.to_numeric, errors='coerce')\n",
        "\n",
        "    # Set Gene_Name as the index\n",
        "    treatment_data_numeric = treatment_data_numeric.set_index(filtered_data[\"Gene_Name\"])\n",
        "    control_numeric = control_numeric.set_index(filtered_data[\"Gene_Name\"])\n",
        "\n",
        "    # Select the top n genes\n",
        "    treatment_data_numeric = treatment_data_numeric.iloc[:n_genes, :]\n",
        "    control_numeric = control_numeric.iloc[:n_genes, :]\n",
        "\n",
        "    # Transpose the expression data\n",
        "    treatment_transposed = treatment_data_numeric.T\n",
        "    control_transposed = control_numeric.T\n",
        "\n",
        "    def calculate_correlation_matrix(expression_data):\n",
        "        return expression_data.corr(method=\"spearman\")\n",
        "\n",
        "    # Calculate correlation matrices\n",
        "    treatment_corr_matrix = calculate_correlation_matrix(treatment_transposed)\n",
        "    control_corr_matrix = calculate_correlation_matrix(control_transposed)\n",
        "\n",
        "    def create_network(corr_matrix, threshold):\n",
        "        G = nx.Graph()\n",
        "        for i, gene1 in enumerate(corr_matrix.index):\n",
        "            for j, gene2 in enumerate(corr_matrix.columns):\n",
        "                if i < j:\n",
        "                    correlation = corr_matrix.iloc[i, j]\n",
        "                    if abs(correlation) >= threshold:\n",
        "                        G.add_edge(gene1, gene2, weight=correlation)\n",
        "        return G\n",
        "\n",
        "    # Create networks\n",
        "    treatment_network = create_network(treatment_corr_matrix, correlation_threshold)\n",
        "    control_network = create_network(control_corr_matrix, correlation_threshold)\n",
        "\n",
        "    # Create network visualization with subgraphs\n",
        "    def plot_networks():\n",
        "        fig = plt.figure(figsize=(15, 12))\n",
        "        # Plot full networks\n",
        "        plt.subplot(2, 2, 1)\n",
        "        pos_treatment = nx.spring_layout(treatment_network, seed=42)\n",
        "        nx.draw(treatment_network, pos_treatment, with_labels=False, node_size=20, edge_color=\"lightblue\")\n",
        "        plt.title(f\"{treatment_pattern} Full Network\")\n",
        "        plt.subplot(2, 2, 2)\n",
        "        pos_control = nx.spring_layout(control_network, seed=42)\n",
        "        nx.draw(control_network, pos_control, with_labels=False, node_size=20, edge_color=\"lightgreen\")\n",
        "        plt.title(f\"{control_pattern} Full Network\")\n",
        "\n",
        "        # Create and plot subgraphs of top 10 nodes\n",
        "        def get_top_nodes_subgraph(G, n=10):\n",
        "            # Get degrees and sort nodes\n",
        "            degrees = dict(G.degree())\n",
        "            top_nodes = sorted(degrees.items(), key=lambda x: x[1], reverse=True)[:n]\n",
        "            top_node_names = [node for node, _ in top_nodes]\n",
        "            # Create subgraph\n",
        "            subgraph = G.subgraph(top_node_names)\n",
        "            return subgraph\n",
        "\n",
        "        # Treatment subgraph\n",
        "        treatment_sub = get_top_nodes_subgraph(treatment_network)\n",
        "        plt.subplot(2, 2, 3)\n",
        "        pos_treatment_sub = nx.spring_layout(treatment_sub, seed=42)\n",
        "        nx.draw(treatment_sub, pos_treatment_sub, with_labels=True, node_size=500, edge_color=\"lightblue\", font_size=8, font_weight='bold')\n",
        "        plt.title(f\"Top 10 {treatment_pattern} Genes Subnetwork\")\n",
        "\n",
        "        # Control subgraph\n",
        "        control_sub = get_top_nodes_subgraph(control_network)\n",
        "        plt.subplot(2, 2, 4)\n",
        "        pos_control_sub = nx.spring_layout(control_sub, seed=42)\n",
        "        nx.draw(control_sub, pos_control_sub, with_labels=True, node_size=500, edge_color=\"lightgreen\", font_size=8, font_weight='bold')\n",
        "        plt.title(f\"Top 10 {control_pattern} Genes Subnetwork\")\n",
        "        plt.tight_layout()\n",
        "        return fig\n",
        "\n",
        "    # Analyze hub genes\n",
        "    treatment_degrees = dict(treatment_network.degree())\n",
        "    control_degrees = dict(control_network.degree())\n",
        "    sorted_treatment_genes = sorted(treatment_degrees.items(), key=lambda x: x[1], reverse=True)\n",
        "    sorted_control_genes = sorted(control_degrees.items(), key=lambda x: x[1], reverse=True)\n",
        "\n",
        "    # Calculate network metrics\n",
        "    density_treatment = nx.density(treatment_network)\n",
        "    density_control = nx.density(control_network)\n",
        "\n",
        "    # Analyze hub genes overlap\n",
        "    hub_genes_treatment = set([gene for gene, degree in sorted_treatment_genes[:10]])\n",
        "    hub_genes_control = set([gene for gene, degree in sorted_control_genes[:10]])\n",
        "    common_hub_genes = hub_genes_treatment.intersection(hub_genes_control)\n",
        "    unique_treatment_hub_genes = hub_genes_treatment - hub_genes_control\n",
        "    unique_control_hub_genes = hub_genes_control - hub_genes_treatment\n",
        "\n",
        "    # Create distribution plots\n",
        "    def plot_network_distributions():\n",
        "        fig, (ax1, ax2) = plt.subplots(1, 2, figsize=(15, 6))\n",
        "        # Plot 1: Cumulative Degree Distribution\n",
        "        treatment_degrees_list = sorted([d for n, d in treatment_network.degree()], reverse=True)\n",
        "        control_degrees_list = sorted([d for n, d in control_network.degree()], reverse=True)\n",
        "        treatment_cumfreq = np.arange(1, len(treatment_degrees_list) + 1) / len(treatment_degrees_list)\n",
        "        control_cumfreq = np.arange(1, len(control_degrees_list) + 1) / len(control_degrees_list)\n",
        "        ax1.plot(treatment_degrees_list, treatment_cumfreq, 'r-', label=f'{treatment_pattern}', linewidth=2)\n",
        "        ax1.plot(control_degrees_list, control_cumfreq, 'b-', label=f'{control_pattern}', linewidth=2)\n",
        "        ax1.set_xlabel('Node Degree')\n",
        "        ax1.set_ylabel('Cumulative Frequency')\n",
        "        ax1.set_title('Cumulative Degree Distribution')\n",
        "        ax1.legend()\n",
        "        ax1.grid(True, alpha=0.3)\n",
        "\n",
        "        # Add statistics to first plot\n",
        "        treatment_stats = f'{treatment_pattern}:\\nMean degree: {np.mean(treatment_degrees_list):.2f}\\nMax degree: {max(treatment_degrees_list)}'\n",
        "        control_stats = f'{control_pattern}:\\nMean degree: {np.mean(control_degrees_list):.2f}\\nMax degree: {max(control_degrees_list)}'\n",
        "        ax1.text(0.02, 0.98, treatment_stats, transform=ax1.transAxes,verticalalignment='top', bbox=dict(boxstyle='round', facecolor='white', alpha=0.8))\n",
        "        ax1.text(0.02, 0.78, control_stats, transform=ax1.transAxes,verticalalignment='top', bbox=dict(boxstyle='round', facecolor='white', alpha=0.8))\n",
        "\n",
        "        # Plot 2: Edge Weight Distribution\n",
        "        treatment_weights = [d['weight'] for (u, v, d) in treatment_network.edges(data=True)]\n",
        "        control_weights = [d['weight'] for (u, v, d) in control_network.edges(data=True)]\n",
        "        bins = np.linspace(min(min(treatment_weights, default=0), min(control_weights, default=0)),max(max(treatment_weights, default=1), max(control_weights, default=1)), 20)\n",
        "        ax2.hist(treatment_weights, bins, alpha=0.5, label=treatment_pattern, color='red')\n",
        "        ax2.hist(control_weights, bins, alpha=0.5, label=control_pattern, color='blue')\n",
        "        ax2.set_xlabel('Edge Weight (Correlation Strength)')\n",
        "        ax2.set_ylabel('Frequency')\n",
        "        ax2.set_title('Edge Weight Distribution')\n",
        "        ax2.legend()\n",
        "\n",
        "        # Add statistics to second plot\n",
        "        treatment_weight_stats = f'{treatment_pattern}:\\nMean weight: {np.mean(treatment_weights):.3f}\\nMedian weight: {np.median(treatment_weights):.3f}'\n",
        "        control_weight_stats = f'{control_pattern}:\\nMean weight: {np.mean(control_weights):.3f}\\nMedian weight: {np.median(control_weights):.3f}'\n",
        "        ax2.text(0.02, 0.98, treatment_weight_stats, transform=ax2.transAxes,verticalalignment='top', bbox=dict(boxstyle='round', facecolor='white', alpha=0.8))\n",
        "        ax2.text(0.02, 0.78, control_weight_stats, transform=ax2.transAxes,verticalalignment='top', bbox=dict(boxstyle='round', facecolor='white', alpha=0.8))\n",
        "        plt.tight_layout()\n",
        "        return fig\n",
        "\n",
        "    # Calculate detailed network comparison metrics\n",
        "    def calculate_network_metrics():\n",
        "        metrics = {\n",
        "            'Number of Nodes': lambda g: len(g.nodes()),\n",
        "            'Number of Edges': lambda g: len(g.edges()),\n",
        "            'Average Degree': lambda g: sum(dict(g.degree()).values())/len(g),\n",
        "            'Network Density': lambda g: nx.density(g),\n",
        "            'Average Clustering': lambda g: nx.average_clustering(g),\n",
        "            'Average Path Length': lambda g: nx.average_shortest_path_length(g) if nx.is_connected(g) else 'Not connected',\n",
        "            'Number of Connected Components': lambda g: nx.number_connected_components(g)}\n",
        "\n",
        "        comparison_results = {}\n",
        "        for metric_name, metric_func in metrics.items():\n",
        "            try:\n",
        "                treatment_value = metric_func(treatment_network)\n",
        "                control_value = metric_func(control_network)\n",
        "                comparison_results[metric_name] = {\n",
        "                    'treatment': treatment_value,\n",
        "                    'control': control_value}\n",
        "            except Exception as e:\n",
        "                comparison_results[metric_name] = {\n",
        "                    'treatment': f\"Error: {str(e)}\",\n",
        "                    'control': f\"Error: {str(e)}\"}\n",
        "        return comparison_results\n",
        "\n",
        "    network_comparison = calculate_network_metrics()\n",
        "\n",
        "    # Create result dictionary\n",
        "    results = {'networks': {'treatment': treatment_network,'control': control_network},\n",
        "        'hub_genes': {'treatment_top10': sorted_treatment_genes[:10],'control_top10': sorted_control_genes[:10],'common': common_hub_genes,'unique_treatment': unique_treatment_hub_genes,'unique_control': unique_control_hub_genes},\n",
        "        'network_metrics': {'treatment_density': density_treatment,'control_density': density_control,'detailed_comparison': network_comparison},\n",
        "        'figures': {'networks': plot_networks(),'distributions': plot_network_distributions()}}\n",
        "    return results\n",
        "\n",
        "def print_analysis_results(results):\n",
        "    # Print network comparison metrics\n",
        "    comparison_metrics = results['network_metrics']['detailed_comparison']\n",
        "    print(\"\\nDetailed Network Comparison:\")\n",
        "    for metric_name, values in comparison_metrics.items():\n",
        "        print(f\"\\n{metric_name}:\")\n",
        "        treatment_value = values['treatment']\n",
        "        control_value = values['control']\n",
        "        if isinstance(treatment_value, (int, float)):\n",
        "            print(f\"Treatment: {treatment_value:.3f}\")\n",
        "            print(f\"Control: {control_value:.3f}\")\n",
        "        else:\n",
        "            print(f\"Treatment: {treatment_value}\")\n",
        "            print(f\"Control: {control_value}\")\n",
        "\n",
        "    # Print hub genes\n",
        "    print(\"\\nTop 10 Hub Genes:\")\n",
        "    print(\"\\nTreatment hub genes:\")\n",
        "    for gene, degree in results['hub_genes']['treatment_top10']:\n",
        "        print(f\"{gene}: {degree} connections\")\n",
        "    print(\"\\nControl hub genes:\")\n",
        "    for gene, degree in results['hub_genes']['control_top10']:\n",
        "        print(f\"{gene}: {degree} connections\")\n",
        "    print(\"\\nHub Gene Analysis:\")\n",
        "    print(f\"Common hub genes between networks: {len(results['hub_genes']['common'])}\")\n",
        "    print(\"Common genes:\", results['hub_genes']['common'])\n",
        "    print(f\"\\nUnique to treatment: {len(results['hub_genes']['unique_treatment'])}\")\n",
        "    print(\"Genes:\", results['hub_genes']['unique_treatment'])\n",
        "    print(f\"\\nUnique to control: {len(results['hub_genes']['unique_control'])}\")\n",
        "    print(\"Genes:\", results['hub_genes']['unique_control'])"
      ],
      "metadata": {
        "id": "LGQSYSuZz3NX"
      },
      "execution_count": 40,
      "outputs": []
    },
    {
      "cell_type": "code",
      "source": [
        "# Example usage\n",
        "''' #uncomment to use\n",
        "results = analyze_gene_coexpression(\n",
        "    filtered_normalized_count_matrix,\n",
        "    treatment_pattern=\"AMIL\", # Select columns with \"AMIL\" in their names (use appropriate keyword for your own data)\n",
        "    control_pattern=\"CTRL\", # Select columns with \"CTRL\" in their names (use appropriate keyword for your own data)\n",
        "    n_genes = 100 # of genes to include in analysis\n",
        "    )\n",
        "\n",
        "print_analysis_results(results)\n",
        "\n",
        "# Display figures (\n",
        "plt.figure()\n",
        "plt.show(results['figures']['networks'])\n",
        "plt.figure()\n",
        "plt.show(results['figures']['distributions'])\n",
        "'''"
      ],
      "metadata": {
        "colab": {
          "base_uri": "https://localhost:8080/",
          "height": 67
        },
        "id": "aDcCdlQYwq94",
        "outputId": "500f635d-a95d-4ff5-93b0-352f8d23c743"
      },
      "execution_count": 41,
      "outputs": [
        {
          "output_type": "execute_result",
          "data": {
            "text/plain": [
              "'\\nresults = analyze_gene_coexpression(\\n    filtered_normalized_count_matrix,\\n    treatment_pattern=\"AMIL\", # Select columns with \"AMIL\" in their names (use appropriate keyword for your own data)\\n    control_pattern=\"CTRL\", # Select columns with \"CTRL\" in their names (use appropriate keyword for your own data)\\n    n_genes = 100 # of genes to include in analysis\\n    )\\n\\nprint_analysis_results(results)\\n\\n# Display figures (\\nplt.figure()\\nplt.show(results[\\'figures\\'][\\'networks\\'])\\nplt.figure()\\nplt.show(results[\\'figures\\'][\\'distributions\\'])\\n'"
            ],
            "application/vnd.google.colaboratory.intrinsic+json": {
              "type": "string"
            }
          },
          "metadata": {},
          "execution_count": 41
        }
      ]
    },
    {
      "cell_type": "markdown",
      "source": [
        "## **PPI Network Analysis**"
      ],
      "metadata": {
        "id": "cl-6yucA63OV"
      }
    },
    {
      "cell_type": "code",
      "source": [
        "def analyze_ppi_network(gene_list, score_threshold=0.7, species='human'):\n",
        "    def fetch_string_ppi(genes, species):\n",
        "        \"\"\"Fetch PPI data from STRING database\"\"\"\n",
        "        base_url = \"https://string-db.org/api/tsv/network\"\n",
        "        genes_str = \"\\n\".join(genes)\n",
        "        params = {'identifiers': genes_str, 'species': species, 'limit': 1}\n",
        "        response = requests.post(base_url, data=params)\n",
        "        if response.status_code == 200:\n",
        "            return response.text\n",
        "        else:\n",
        "            print(f\"Failed to fetch data from STRING: {response.status_code}\")\n",
        "            return None\n",
        "\n",
        "    # Fetch and process PPI data\n",
        "    ppi_data = fetch_string_ppi(gene_list, species)\n",
        "    if ppi_data is None:\n",
        "        raise ValueError(\"No PPI data retrieved. Check your input or STRING database connection.\")\n",
        "\n",
        "    # Parse data and filter by score\n",
        "    ppi_df = pd.read_csv(StringIO(ppi_data), sep=\"\\t\")\n",
        "    ppi_df_filtered = ppi_df[ppi_df['score'] > score_threshold]\n",
        "\n",
        "    # Create network\n",
        "    G = nx.Graph()\n",
        "    for _, row in ppi_df_filtered.iterrows():\n",
        "        G.add_edge(row['preferredName_A'], row['preferredName_B'], weight=row['score'])\n",
        "\n",
        "    # Calculate network metrics\n",
        "    network_metrics = {'num_nodes': G.number_of_nodes(),'num_edges': G.number_of_edges(),'density': nx.density(G),'num_components': len(list(nx.connected_components(G)))}\n",
        "\n",
        "    # Calculate node centralities\n",
        "    degree_centrality = nx.degree_centrality(G)\n",
        "    betweenness_centrality = nx.betweenness_centrality(G)\n",
        "    clustering_coefficients = nx.clustering(G)\n",
        "\n",
        "    # Get top nodes by different metrics\n",
        "    top_nodes = {\n",
        "        'degree': sorted(degree_centrality.items(), key=lambda x: x[1], reverse=True)[:10],\n",
        "        'betweenness': sorted(betweenness_centrality.items(), key=lambda x: x[1], reverse=True)[:10],\n",
        "        'clustering': sorted(clustering_coefficients.items(), key=lambda x: x[1], reverse=True)[:10]}\n",
        "\n",
        "    def create_network_figures():\n",
        "        fig = plt.figure(figsize=(20, 20))\n",
        "        # Full network (top left)\n",
        "        plt.subplot(2, 2, 1)\n",
        "        nx.draw_networkx(G, node_size=50, with_labels=True, font_size=8, width=1, alpha=0.7)\n",
        "        plt.title('Full PPI Network', pad=20, size=14)\n",
        "\n",
        "        # Node degree distribution (top right)\n",
        "        plt.subplot(2, 2, 2)\n",
        "        degrees = [d for n, d in G.degree()]\n",
        "        plt.hist(degrees, bins=max(10, max(degrees)), alpha=0.7)\n",
        "        plt.xlabel('Node Degree')\n",
        "        plt.ylabel('Frequency')\n",
        "        plt.title('Node Degree Distribution', pad=20, size=14)\n",
        "\n",
        "        # Top 20 nodes by degree centrality (bottom left)\n",
        "        plt.subplot(2, 2, 3)\n",
        "        top_degree_nodes = [node for node, _ in sorted(degree_centrality.items(), key=lambda x: x[1], reverse=True)[:20]]\n",
        "        subgraph_degree = G.subgraph(top_degree_nodes)\n",
        "        nx.draw_networkx(subgraph_degree, node_size=500, node_color='skyblue', with_labels=True, font_size=10)\n",
        "        plt.title(\"Top 20 Nodes by Degree Centrality\", pad=20, size=14)\n",
        "\n",
        "        # Top 20 nodes by betweenness centrality (bottom right)\n",
        "        plt.subplot(2, 2, 4)\n",
        "        top_betweenness_nodes = [node for node, _ in sorted(betweenness_centrality.items(), key=lambda x: x[1], reverse=True)[:20]]\n",
        "        subgraph_betweenness = G.subgraph(top_betweenness_nodes)\n",
        "        nx.draw_networkx(subgraph_betweenness, node_size=500, node_color='lightgreen', with_labels=True, font_size=10)\n",
        "        plt.title(\"Top 20 Nodes by Betweenness Centrality\", pad=20, size=14)\n",
        "        plt.tight_layout()\n",
        "        return fig\n",
        "\n",
        "    # Create visualization\n",
        "    figure = create_network_figures()\n",
        "\n",
        "    # Return results\n",
        "    results = {'network': G,'metrics': network_metrics,'top_nodes': top_nodes,'figure': figure}\n",
        "    return results\n",
        "\n",
        "def print_ppi_results(results):\n",
        "    # Print network metrics\n",
        "    print(f\"Number of nodes: {results['metrics']['num_nodes']} \"\n",
        "          f\"Number of edges: {results['metrics']['num_edges']} \"\n",
        "          f\"Network density: {results['metrics']['density']:.3f} \"\n",
        "          f\"Number of connected components: {results['metrics']['num_components']}\")\n",
        "\n",
        "    # Print top nodes\n",
        "    print(\"\\nTop 10 nodes by degree centrality:\")\n",
        "    print([node for node, _ in results['top_nodes']['degree']])\n",
        "    print(\"\\nTop 10 nodes by betweenness centrality:\")\n",
        "    print([node for node, _ in results['top_nodes']['betweenness']])\n",
        "    print(\"\\nTop 10 nodes by clustering coefficient:\")\n",
        "    print([node for node, _ in results['top_nodes']['clustering']])"
      ],
      "metadata": {
        "id": "6z6K2UJX7Rc5"
      },
      "execution_count": 57,
      "outputs": []
    },
    {
      "cell_type": "code",
      "source": [
        "# Example usage:\n",
        "'''\n",
        "gene_list = DEGs['gene'].tolist()  # Use the `gene` column (ENSEMBL IDs)\n",
        "results = analyze_ppi_network(gene_list)\n",
        "print_ppi_results(results)\n",
        "plt.figure()\n",
        "plt.show(results['figure'])\n",
        "'''"
      ],
      "metadata": {
        "colab": {
          "base_uri": "https://localhost:8080/",
          "height": 34
        },
        "id": "AWK19y8Y7Vnr",
        "outputId": "1523c648-869a-4df0-b74c-b26dd80caacb"
      },
      "execution_count": 63,
      "outputs": [
        {
          "output_type": "execute_result",
          "data": {
            "text/plain": [
              "\"\\ngene_list = DEGs['gene'].tolist()  # Use the `gene` column (ENSEMBL IDs)\\nresults = analyze_ppi_network(gene_list)\\nprint_ppi_results(results)\\nplt.figure()\\nplt.show(results['figure'])\\n\""
            ],
            "application/vnd.google.colaboratory.intrinsic+json": {
              "type": "string"
            }
          },
          "metadata": {},
          "execution_count": 63
        }
      ]
    },
    {
      "cell_type": "markdown",
      "source": [
        "## **Functional Enrichment Analysis**"
      ],
      "metadata": {
        "id": "KBJqarUYBJK7"
      }
    },
    {
      "cell_type": "code",
      "source": [
        "# Define the gene lists for each model (DEGs) here\n",
        "gene_list = DEGs['Gene_Name'].dropna().astype(str).tolist()\n",
        "\n",
        "# Perform GO enrichment analysis for Biological Process (BP), Molecular Function (MF), Cellular Components (CC), and pathways\n",
        "biological_processes = gp.enrichr(gene_list, gene_sets=['GO_Biological_Process_2018'], organism='human')\n",
        "biological_processes = biological_processes.results\n",
        "molecular_functions = gp.enrichr(gene_list, gene_sets=['GO_Molecular_Function_2018'], organism='human')\n",
        "molecular_functions = molecular_functions.results\n",
        "cellular_components = gp.enrichr(gene_list, gene_sets=['GO_Cellular_Component_2018'], organism='human')\n",
        "cellular_components = cellular_components.results\n",
        "pathways = gp.enrichr(gene_list, gene_sets=['KEGG_2016'], organism='human')\n",
        "pathways = pathways.results\n",
        "\n",
        "# View results\n",
        "biological_processes\n",
        "molecular_functions\n",
        "cellular_components\n",
        "pathways"
      ],
      "metadata": {
        "colab": {
          "base_uri": "https://localhost:8080/",
          "height": 100
        },
        "id": "rbkI6AAcCXLC",
        "outputId": "e234868b-1fc6-47a2-96b2-2b4f69b3db73"
      },
      "execution_count": 85,
      "outputs": [
        {
          "output_type": "execute_result",
          "data": {
            "text/plain": [
              "\"\\ngene_list = DEGs['Gene_Name'].dropna().astype(str).tolist()\\n\\n# Perform GO enrichment analysis for Biological Process (BP), Molecular Function (MF), Cellular Components (CC), and pathways \\nbiological_processes = gp.enrichr(gene_list, gene_sets=['GO_Biological_Process_2018'], organism='human')\\nbiological_processes = biological_processes.results\\nmolecular_functions = gp.enrichr(gene_list, gene_sets=['GO_Molecular_Function_2018'], organism='human')\\nmolecular_functions = molecular_functions.results\\ncellular_components = gp.enrichr(gene_list, gene_sets=['GO_Cellular_Component_2018'], organism='human')\\ncellular_components = cellular_components.results\\npathways = gp.enrichr(gene_list, gene_sets=['KEGG_2016'], organism='human')\\npathways = pathways.results\\n\\n# View results\\nbiological_processes\\nmolecular_functions\\ncellular_components\\npathways\\n\""
            ],
            "application/vnd.google.colaboratory.intrinsic+json": {
              "type": "string"
            }
          },
          "metadata": {},
          "execution_count": 85
        }
      ]
    }
  ]
}